{
  "nbformat": 4,
  "nbformat_minor": 0,
  "metadata": {
    "colab": {
      "name": "idist-collective-communication.ipynb",
      "provenance": [],
      "collapsed_sections": []
    },
    "kernelspec": {
      "display_name": "Python 3 (ipykernel)",
      "language": "python",
      "name": "python3"
    },
    "language_info": {
      "codemirror_mode": {
        "name": "ipython",
        "version": 3
      },
      "file_extension": ".py",
      "mimetype": "text/x-python",
      "name": "python",
      "nbconvert_exporter": "python",
      "pygments_lexer": "ipython3",
      "version": "3.8.10"
    },
    "pycharm": {
      "stem_cell": {
        "cell_type": "raw",
        "metadata": {
          "collapsed": false
        },
        "source": []
      }
    },
    "accelerator": "GPU"
  },
  "cells": [
    {
      "cell_type": "markdown",
      "metadata": {
        "id": "5w-QlZE9mvdY"
      },
      "source": [
        "<!-- ---\n",
        "title: Collective Communication with Ignite\n",
        "weight: 5\n",
        "date: 2021-10-5\n",
        "downloads: true\n",
        "sidebar: true\n",
        "tags:\n",
        "  - idist\n",
        "  - all_gather\n",
        "  - all_reduce\n",
        "  - broadcast\n",
        "  - barrier\n",
        "--- -->\n",
        "\n",
        "# Collective Communication with Ignite"
      ]
    },
    {
      "cell_type": "markdown",
      "metadata": {
        "id": "vJgTaKWU8Doq"
      },
      "source": [
        "In this tutorial, we will see how to use advanced distributed functions like `all_reduce()`, `all_gather()`, `broadcast()` and `barrier()`. We will discuss unique use cases for all of them and represent them visually.\n",
        "\n",
        "<!--more-->"
      ]
    },
    {
      "cell_type": "markdown",
      "metadata": {
        "id": "Qhiy_ylcn2GD"
      },
      "source": [
        "## Required Dependencies"
      ]
    },
    {
      "cell_type": "code",
      "metadata": {
        "id": "1zevsoVQ4nx7"
      },
      "source": [
        "!pip install pytorch-ignite"
      ],
      "execution_count": null,
      "outputs": []
    },
    {
      "cell_type": "markdown",
      "metadata": {
        "id": "TrvIsRKQn42e"
      },
      "source": [
        "## Imports"
      ]
    },
    {
      "cell_type": "code",
      "metadata": {
        "id": "lMphyBmmmvdw",
        "pycharm": {
          "is_executing": false
        }
      },
      "source": [
        "import torch\n",
        "\n",
        "import ignite.distributed as idist"
      ],
      "execution_count": null,
      "outputs": []
    },
    {
      "cell_type": "markdown",
      "metadata": {
        "id": "Y2KPTliNC2r9"
      },
      "source": [
        "## All Reduce\n",
        "\n",
        "![All Reduce Diagram](https://github.com/pytorch-ignite/examples/blob/add-collective-comm-nb/tutorials/assets/all-reduce.png?raw=1)\n",
        "\n",
        "The [`all_reduce()`](https://pytorch.org/ignite/distributed.html#ignite.distributed.utils.all_reduce) method is used to collect specified tensors from each process and make them available on every node then perform a specified operation (sum, product, min, max, etc) on them. Let's assume we have 3 GPUs with ranks 0, 1 and 2 and have a `tensor` on all of them. If we performed `all_reduce` with the operation SUM on `tensor` then `tensor` on all ranks will be gathered, added and stored in `tensor` as shown below:"
      ]
    },
    {
      "cell_type": "code",
      "metadata": {
        "id": "GHT6EftPOwUq",
        "colab": {
          "base_uri": "https://localhost:8080/"
        },
        "outputId": "e3cf60dd-4890-4f10-89c7-507bd46ce6c3"
      },
      "source": [
        "tensor = torch.arange(2, dtype=torch.int64) + 1 + 2 * idist.get_rank()\n",
        "print(tensor)"
      ],
      "execution_count": null,
      "outputs": [
        {
          "output_type": "stream",
          "name": "stdout",
          "text": [
            "tensor([1, 2])\n",
            "tensor([3, 4])\n",
            "tensor([5, 6])\n"
          ]
        }
      ]
    },
    {
      "cell_type": "code",
      "metadata": {
        "id": "m3C4iKjrPZrz",
        "colab": {
          "base_uri": "https://localhost:8080/"
        },
        "outputId": "8dab4a29-ad5b-4754-f2d9-fcddb2e558b3"
      },
      "source": [
        "idist.all_reduce(tensor, op=\"SUM\")\n",
        "print(sum)"
      ],
      "execution_count": null,
      "outputs": [
        {
          "output_type": "stream",
          "name": "stdout",
          "text": [
            "tensor([ 9, 12])\n",
            "tensor([ 9, 12])\n",
            "tensor([ 9, 12])\n"
          ]
        }
      ]
    },
    {
      "cell_type": "markdown",
      "metadata": {
        "id": "FLntezo0NhQg"
      },
      "source": [
        "Now let's assume a more real world scenario - You need to find the average of all the gradients available on different processes. \n",
        "\n",
        "> First, we get the number of GPUs available, with the get_world_size method. Then, for every model parameter, we do the following:\n",
        ">\n",
        ">    1. Gather the gradients on each process\n",
        ">    2. Apply the sum operation on the gradients\n",
        ">    3. Divide by the world size to average them\n",
        ">\n",
        "> Finally, we can go on to update the model parameters using the averaged gradients!\n",
        ">\n",
        "> -- <cite>[Distributed Deep Learning 101: Introduction](https://towardsdatascience.com/distributed-deep-learning-101-introduction-ebfc1bcd59d9)</cite>\n",
        "\n",
        "You can get the number of GPUs (processes) available using another helper method [`idist.get_world_size()`](https://pytorch.org/ignite/distributed.html#ignite.distributed.utils.get_world_size) and then use `all_reduce()` to collect the gradients and apply the SUM operation."
      ]
    },
    {
      "cell_type": "code",
      "metadata": {
        "id": "0j_ErUWhHpTl"
      },
      "source": [
        "def average_gradients(model):\n",
        "    num_processes = idist.get_world_size()\n",
        "    for param in model.parameters():\n",
        "        idist.all_reduce(param.grad.data, op=\"SUM\")\n",
        "        param.grad.data = param.grad.data / num_processes"
      ],
      "execution_count": null,
      "outputs": []
    },
    {
      "cell_type": "markdown",
      "metadata": {
        "id": "7w9oIcIiC6_4"
      },
      "source": [
        "## All Gather\n",
        "\n",
        "![All Gather Diagram](https://github.com/pytorch-ignite/examples/blob/add-collective-comm-nb/tutorials/assets/all-gather.png?raw=1)\n",
        "\n",
        "The [`all_gather()`](https://pytorch.org/ignite/distributed.html#ignite.distributed.utils.all_gather) method is used when you just want to collect a tensor, number or string across all participating processes. As a basic example, suppose you have to collect all the different values stored in `num` on all ranks. You can achieve this by using `all_gather` as below:"
      ]
    },
    {
      "cell_type": "code",
      "metadata": {
        "id": "secH6QMJTL_2",
        "colab": {
          "base_uri": "https://localhost:8080/"
        },
        "outputId": "c6ecc3e5-71d7-4f3c-f8f6-3d081e2fc0ea"
      },
      "source": [
        "num = 2.0 * idist.get_rank()\n",
        "print(num)"
      ],
      "execution_count": null,
      "outputs": [
        {
          "output_type": "stream",
          "name": "stdout",
          "text": [
            "0.0\n",
            "2.0\n",
            "4.0\n"
          ]
        }
      ]
    },
    {
      "cell_type": "code",
      "metadata": {
        "id": "Oh84wLTTTV1k",
        "colab": {
          "base_uri": "https://localhost:8080/"
        },
        "outputId": "5a6555be-c252-4f94-a587-1c9566617e0c"
      },
      "source": [
        "idist.all_gather(tensor)\n",
        "print(gather)"
      ],
      "execution_count": null,
      "outputs": [
        {
          "output_type": "stream",
          "name": "stdout",
          "text": [
            "[0.0, 2.0, 4.0]\n",
            "[0.0, 2.0, 4.0]\n",
            "[0.0, 2.0, 4.0]\n"
          ]
        }
      ]
    },
    {
      "cell_type": "markdown",
      "metadata": {
        "id": "FdTcvz4pStfD"
      },
      "source": [
        "Now let's assume you need to gather the predicted values which are distributed across all the processes on the main process so you could store them to a file. Here is how you can do it: "
      ]
    },
    {
      "cell_type": "code",
      "metadata": {
        "id": "NRvgasbLC8Ne"
      },
      "source": [
        "def write_preds_to_file(predictions, filename):\n",
        "    prediction_tensor = torch.tensor(predictions)\n",
        "    prediction_tensor = idist.all_gather(prediction_tensor)\n",
        "\n",
        "    if idist.get_rank() == 0:\n",
        "        torch.save(prediction_tensor, filename)"
      ],
      "execution_count": null,
      "outputs": []
    },
    {
      "cell_type": "markdown",
      "metadata": {
        "id": "Ib9PfbieNMw_"
      },
      "source": [
        "**Note:** In the above example, only the main process required the gathered values and not all the processes. This can be also be done via the `gather()` method, however one of the backends [`nccl` does not support `gather()`](https://pytorch.org/docs/stable/distributed.html) hence we had to use `all_gather()`."
      ]
    },
    {
      "cell_type": "markdown",
      "metadata": {
        "id": "0fsu-NybC8t1"
      },
      "source": [
        "## Broadcast\n",
        "\n",
        "![Broadcast Diagram](https://github.com/pytorch-ignite/examples/blob/add-collective-comm-nb/tutorials/assets/broadcast.png?raw=1)\n",
        "\n",
        "The [`broadcast()`](https://pytorch.org/ignite/distributed.html#ignite.distributed.utils.broadcast) method copies a tensor, float or string from a source process to all the other processes. For example, you need to send a message from rank 0 to all other ranks. You can do this by creating the actual message on rank 0 and a placeholder on all other ranks, then broadcast the message mentioning a source rank. You can also use `safe_mode=True` in case the empty placeholder is not defined on all ranks. "
      ]
    },
    {
      "cell_type": "code",
      "metadata": {
        "id": "pB7pk3GFT1U6",
        "colab": {
          "base_uri": "https://localhost:8080/"
        },
        "outputId": "6724e5d2-bc05-414a-d61b-ec6a72cc9765"
      },
      "source": [
        "message = f\"hello from rank {idist.get_rank()}\"\n",
        "print(message)"
      ],
      "execution_count": null,
      "outputs": [
        {
          "output_type": "stream",
          "name": "stdout",
          "text": [
            "hello from rank 0\n",
            "hello from rank 1\n",
            "hello from rank 2\n"
          ]
        }
      ]
    },
    {
      "cell_type": "code",
      "metadata": {
        "id": "SYXfJFBfUYiV",
        "colab": {
          "base_uri": "https://localhost:8080/"
        },
        "outputId": "bbe32af9-8c89-441a-f9d3-f4b9dcd96a56"
      },
      "source": [
        "message = idist.broadcast(message, src=0)\n",
        "print(message)"
      ],
      "execution_count": null,
      "outputs": [
        {
          "output_type": "stream",
          "name": "stdout",
          "text": [
            "hello from rank 0\n",
            "hello from rank 0\n",
            "hello from rank 0\n"
          ]
        }
      ]
    },
    {
      "cell_type": "markdown",
      "metadata": {
        "id": "cVXVi2rcTz9X"
      },
      "source": [
        "For a real world use case, let's assume you need to gather the predicted and actual values from all the processes on rank 0 for computing a metric and avoiding a memory error. You can do do this by first using `all_gather()`, then computing the metric and finally using `broadcast()` to share the result with all processes. `src` below refers to the rank of the source process."
      ]
    },
    {
      "cell_type": "code",
      "metadata": {
        "id": "7aXwKnrTC96T"
      },
      "source": [
        "def compute_metric(prediction_tensor, target_tensor):\n",
        "\n",
        "    prediction_tensor = idist.all_gather(prediction_tensor)\n",
        "    target_tensor = idist.all_gather(target_tensor)\n",
        "\n",
        "    result = 0.0\n",
        "    if idist.get_rank() == 0:\n",
        "        result = compute_fn(prediction_tensor, target_tensor)\n",
        "\n",
        "    result = idist.broadcast(result, src=0)\n",
        "\n",
        "    return result"
      ],
      "execution_count": null,
      "outputs": []
    },
    {
      "cell_type": "markdown",
      "metadata": {
        "id": "p5ma7l5cDIuC"
      },
      "source": [
        "## Barrier\n",
        "\n",
        "The [`barrier()`](https://pytorch.org/ignite/distributed.html#ignite.distributed.utils.barrier) method helps synchronize all processes. For example - while downloading data during training, we have to make sure only the main process (`rank = 0`) downloads the datasets to prevent the sub processes (`rank > 0`) from downloading the same file to the same path at the same time. This way all sub processes get a copy of this already downloaded dataset. This is where we can utilize `barrier()` to make the sub processes wait until the main process downloads the datasets. Once that is done, all the subprocesses instantiate the datasets, while the main process waits. Finally, all the processes are synced up."
      ]
    },
    {
      "cell_type": "code",
      "metadata": {
        "id": "XInr0zlhDJl6"
      },
      "source": [
        "def get_datasets(config):\n",
        "    if idist.get_local_rank() > 0:\n",
        "        idist.barrier()\n",
        "\n",
        "    train_dataset, test_dataset = get_train_test_datasets(config[\"data_path\"])\n",
        "\n",
        "    if idist.get_local_rank() == 0:\n",
        "        idist.barrier()\n",
        "\n",
        "    return train_dataset, test_dataset"
      ],
      "execution_count": null,
      "outputs": []
    }
  ]
}
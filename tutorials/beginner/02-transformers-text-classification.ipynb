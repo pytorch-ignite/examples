{
  "cells": [
    {
      "cell_type": "markdown",
      "metadata": {
        "id": "HCS-d1T3znj2"
      },
      "source": [
        "<!-- ---\n",
        "title: Transformers for Text Classification with IMDb Reviews\n",
        "date: 2021-09-18\n",
        "downloads: true\n",
        "weight: 2\n",
        "tags:\n",
        "  - NLP\n",
        "  - BERT\n",
        "  - Transformers\n",
        "  - Text\n",
        "  - Beginner\n",
        "--- -->\n",
        "# Transformers for Text Classification with IMDb Reviews"
      ]
    },
    {
      "cell_type": "markdown",
      "metadata": {
        "id": "rjZMYxFoznj9"
      },
      "source": [
        "In this tutorial we will fine tune a model from the Transformers library for text classification using PyTorch-Ignite. We will be following the [Fine-tuning a pretrained model](https://huggingface.co/transformers/training.html) tutorial for preprocessing text and defining the model, optimizer and dataloaders. <!--more--> Then we are going to use Ignite for:\n",
        "* Training and evaluating the model\n",
        "* Computing metrics\n",
        "* Setting up experiments and monitoring the model\n",
        "\n",
        "According to the tutorial, we will use the [IMDb Movie Reviews Dataset](https://ai.stanford.edu/~amaas/data/sentiment/) to classify a review as either positive or negative."
      ]
    },
    {
      "cell_type": "markdown",
      "metadata": {
        "id": "sovYyC0Zznj-"
      },
      "source": [
        "## Required Dependencies "
      ]
    },
    {
      "cell_type": "code",
      "execution_count": null,
      "metadata": {
        "id": "7XHAD9x7znj_"
      },
      "outputs": [],
      "source": [
        "!pip install pytorch-ignite transformers datasets"
      ]
    },
    {
      "cell_type": "markdown",
      "metadata": {
        "id": "I80XSUXpvk1i"
      },
      "source": [
        "Before we dive in, we will seed everything using [`manual_seed`](https://pytorch.org/ignite/utils.html#ignite.utils.manual_seed)."
      ]
    },
    {
      "cell_type": "code",
      "execution_count": 2,
      "metadata": {
        "id": "enczLgLTznkH"
      },
      "outputs": [],
      "source": [
        "from ignite.utils import manual_seed\n",
        "\n",
        "manual_seed(42)"
      ]
    },
    {
      "cell_type": "markdown",
      "metadata": {
        "id": "WZYyXYB5znkH"
      },
      "source": [
        "## Basic Setup\n",
        "\n",
        "Next we will follow the tutorial and load up our dataset and tokenizer to prepocess the data."
      ]
    },
    {
      "cell_type": "markdown",
      "metadata": {
        "id": "gCVrdHOVgjtH"
      },
      "source": [
        "### Data Preprocessing"
      ]
    },
    {
      "cell_type": "code",
      "execution_count": null,
      "metadata": {
        "id": "PQ80tXFPwAnR"
      },
      "outputs": [],
      "source": [
        "from datasets import load_dataset\n",
        "\n",
        "raw_datasets = load_dataset(\"imdb\")"
      ]
    },
    {
      "cell_type": "code",
      "execution_count": null,
      "metadata": {
        "id": "inP62g7LwV5n"
      },
      "outputs": [],
      "source": [
        "from transformers import AutoTokenizer\n",
        "\n",
        "tokenizer = AutoTokenizer.from_pretrained(\"bert-base-cased\")"
      ]
    },
    {
      "cell_type": "code",
      "execution_count": null,
      "metadata": {
        "id": "aQgWjFq1yESe"
      },
      "outputs": [],
      "source": [
        "def tokenize_function(examples):\n",
        "    return tokenizer(examples[\"text\"], padding=\"max_length\", truncation=True)\n",
        "\n",
        "tokenized_datasets = raw_datasets.map(tokenize_function, batched=True)"
      ]
    },
    {
      "cell_type": "markdown",
      "metadata": {
        "id": "xnLbsx2Jhurm"
      },
      "source": [
        "We move towards the end of the tutorial for PyTorch specific instructions. Here we are extracting a larger subset of our original datasets. We also don't need to provide a seed since we seeded everything at the beginning."
      ]
    },
    {
      "cell_type": "code",
      "execution_count": 6,
      "metadata": {
        "id": "iPQy_FMcxBy3"
      },
      "outputs": [],
      "source": [
        "tokenized_datasets = tokenized_datasets.remove_columns([\"text\"])\n",
        "tokenized_datasets = tokenized_datasets.rename_column(\"label\", \"labels\")\n",
        "tokenized_datasets.set_format(\"torch\")\n",
        "\n",
        "small_train_dataset = tokenized_datasets[\"train\"].shuffle().select(range(5000))\n",
        "small_eval_dataset = tokenized_datasets[\"test\"].shuffle().select(range(5000))"
      ]
    },
    {
      "cell_type": "markdown",
      "metadata": {
        "id": "0JvnKjqRiEFP"
      },
      "source": [
        "### Dataloaders"
      ]
    },
    {
      "cell_type": "code",
      "execution_count": 7,
      "metadata": {
        "id": "APNr5lgsygtw"
      },
      "outputs": [],
      "source": [
        "from torch.utils.data import DataLoader\n",
        "\n",
        "train_dataloader = DataLoader(small_train_dataset, shuffle=True, batch_size=8)\n",
        "eval_dataloader = DataLoader(small_eval_dataset, batch_size=8)"
      ]
    },
    {
      "cell_type": "markdown",
      "metadata": {
        "id": "ax8ToOAviGGS"
      },
      "source": [
        "### Model"
      ]
    },
    {
      "cell_type": "code",
      "execution_count": null,
      "metadata": {
        "id": "XVS15FELytIj"
      },
      "outputs": [],
      "source": [
        "from transformers import AutoModelForSequenceClassification\n",
        "\n",
        "model = AutoModelForSequenceClassification.from_pretrained(\"bert-base-cased\", num_labels=2)"
      ]
    },
    {
      "cell_type": "markdown",
      "metadata": {
        "id": "QOI8dLDDiI7c"
      },
      "source": [
        "### Optimizer"
      ]
    },
    {
      "cell_type": "code",
      "execution_count": 9,
      "metadata": {
        "id": "RIihFsPryvI_"
      },
      "outputs": [],
      "source": [
        "from transformers import AdamW\n",
        "\n",
        "optimizer = AdamW(model.parameters(), lr=5e-5)"
      ]
    },
    {
      "cell_type": "markdown",
      "metadata": {
        "id": "0-Yd47-UiLFs"
      },
      "source": [
        "### LR Scheduler\n",
        "\n",
        "We will use the built-in Ignite alternative of `linear` scheduler which is [`PiecewiseLinear`](https://pytorch.org/ignite/generated/ignite.handlers.param_scheduler.PiecewiseLinear.html#piecewiselinear). We will also increase the number of epochs."
      ]
    },
    {
      "cell_type": "code",
      "execution_count": 10,
      "metadata": {
        "id": "U5gBJL-uS9WG"
      },
      "outputs": [],
      "source": [
        "from ignite.contrib.handlers import PiecewiseLinear\n",
        "\n",
        "num_epochs = 10\n",
        "num_training_steps = num_epochs * len(train_dataloader)\n",
        "\n",
        "milestones_values = [\n",
        "        (0, 5e-5),\n",
        "        (num_training_steps, 0.0),\n",
        "    ]\n",
        "lr_scheduler = PiecewiseLinear(\n",
        "        optimizer, param_name=\"lr\", milestones_values=milestones_values\n",
        "    )"
      ]
    },
    {
      "cell_type": "markdown",
      "metadata": {
        "id": "vEPNZEO8jRSf"
      },
      "source": [
        "### Set Device"
      ]
    },
    {
      "cell_type": "code",
      "execution_count": null,
      "metadata": {
        "id": "A0WXnFD7bg2C"
      },
      "outputs": [],
      "source": [
        "import torch\n",
        "\n",
        "device = torch.device(\"cuda\") if torch.cuda.is_available() else torch.device(\"cpu\")\n",
        "model.to(device)"
      ]
    },
    {
      "cell_type": "markdown",
      "metadata": {
        "id": "elcEG2gojTsI"
      },
      "source": [
        "## Create Trainer\n",
        "\n",
        "Ignite's [`Engine`](https://pytorch.org/ignite/concepts.html#engine) allows users to define a `process_function` to process a given batch of data. This function is applied to all the batches of the dataset. This is a general class that can be applied to train and validate models. A `process_function` has two parameters `engine` and `batch`."
      ]
    },
    {
      "cell_type": "markdown",
      "metadata": {
        "id": "iVoVnJTlWau5"
      },
      "source": [
        "The code for processing a batch of training data in the tutorial is as follows:\n",
        "\n",
        "```python\n",
        "for batch in train_dataloader:\n",
        "    batch = {k: v.to(device) for k, v in batch.items()}\n",
        "    outputs = model(**batch)\n",
        "    loss = outputs.loss\n",
        "    loss.backward()\n",
        "\n",
        "    optimizer.step()\n",
        "    lr_scheduler.step()\n",
        "    optimizer.zero_grad()\n",
        "    progress_bar.update(1)\n",
        "```\n",
        "\n",
        "Therefore we will define a `process_function` (called `train_step` below) to do the above tasks:\n",
        "\n",
        "* Set `model` in train mode. \n",
        "* Move items of the `batch` to `device`.\n",
        "* Perform forward pass and generate `output`.\n",
        "* Extract loss.\n",
        "* Perform backward pass using loss to calculate gradients for the model parameters.\n",
        "* Optimize model parameters using gradients and optimizer.\n",
        "\n",
        "Finally, we choose to return the `loss` so we can utilize it for futher processing.\n",
        "\n",
        "You will also notice that we do not update the `lr_scheduler` and `progress_bar` in `train_step`. This is because Ignite automatically takes care of it as we will see later in this tutorial."
      ]
    },
    {
      "cell_type": "code",
      "execution_count": 37,
      "metadata": {
        "id": "Q4ncIcYcznkQ"
      },
      "outputs": [],
      "source": [
        "def train_step(engine, batch):  \n",
        "    model.train()\n",
        "    \n",
        "    batch = {k: v.to(device) for k, v in batch.items()}\n",
        "    outputs = model(**batch)\n",
        "    loss = outputs.loss\n",
        "    loss.backward()\n",
        "\n",
        "    optimizer.step()\n",
        "    optimizer.zero_grad()\n",
        "\n",
        "    return loss"
      ]
    },
    {
      "cell_type": "markdown",
      "metadata": {
        "id": "n1rXDRO4Y_dp"
      },
      "source": [
        "And then we create a model `trainer` by attaching the `train_step` to the training engine. Later, we will use `trainer` for looping over the training dataset for `num_epochs`."
      ]
    },
    {
      "cell_type": "code",
      "execution_count": 38,
      "metadata": {
        "id": "LFWgXnX4cWV1"
      },
      "outputs": [],
      "source": [
        "from ignite.engine import Engine\n",
        "\n",
        "trainer = Engine(train_step)"
      ]
    },
    {
      "cell_type": "markdown",
      "metadata": {
        "id": "U4Wx_3rrns0a"
      },
      "source": [
        "The `lr_scheduler` we defined perviously was a handler. \n",
        "\n",
        "[Handlers](https://pytorch.org/ignite/concepts.html#handlers) can be any type of function (lambda functions, class methods, etc). On top of that, Ignite provides several built-in handlers to reduce redundant code. We attach these handlers to engine which is triggered at a specific [event](https://pytorch.org/ignite/concepts.html#events-and-handlers). These events can be anything like the start of an iteration or the end of an epoch. [Here](https://pytorch.org/ignite/generated/ignite.engine.events.Events.html#events) is a complete list of built-in events.\n",
        "\n",
        "Therefore, we will attach the `lr_scheduler` (handler) to the `trainer` (`engine`) via [`add_event_handler()`](https://pytorch.org/ignite/generated/ignite.engine.engine.Engine.html#ignite.engine.engine.Engine.add_event_handler) so it can be triggered at `Events.ITERATION_STARTED` (start of an iteration) automatically."
      ]
    },
    {
      "cell_type": "code",
      "execution_count": null,
      "metadata": {
        "id": "LauRCX2Vi8Su"
      },
      "outputs": [],
      "source": [
        "from ignite.engine import Events\n",
        "\n",
        "trainer.add_event_handler(Events.ITERATION_STARTED, lr_scheduler)"
      ]
    },
    {
      "cell_type": "markdown",
      "metadata": {
        "id": "vPXFO_3dc2ll"
      },
      "source": [
        "This is the reason we did not include `lr_scheduler.step()` in `train_step()`."
      ]
    },
    {
      "cell_type": "markdown",
      "metadata": {
        "id": "bNSOB05LjfVB"
      },
      "source": [
        "## Progress Bar\n",
        "\n",
        "Next we create an instance of Ignite's [`ProgessBar()`](https://pytorch.org/ignite/generated/ignite.contrib.handlers.tqdm_logger.html#ignite.contrib.handlers.tqdm_logger.ProgressBar) and attach it to the trainer to replace `progress_bar.update(1)`."
      ]
    },
    {
      "cell_type": "code",
      "execution_count": 40,
      "metadata": {
        "id": "PxSVmnLica2c"
      },
      "outputs": [],
      "source": [
        "from ignite.contrib.handlers import ProgressBar\n",
        "\n",
        "pbar = ProgressBar()"
      ]
    },
    {
      "cell_type": "markdown",
      "metadata": {
        "id": "X9KSg4s5eLJn"
      },
      "source": [
        "We can either, simply track the progress:"
      ]
    },
    {
      "cell_type": "code",
      "execution_count": 29,
      "metadata": {
        "id": "C7t_K2MOd6qp"
      },
      "outputs": [],
      "source": [
        "pbar.attach(trainer)"
      ]
    },
    {
      "cell_type": "markdown",
      "metadata": {
        "id": "sxwfbhkCeRf0"
      },
      "source": [
        "Or also track the output of `trainer` (or `train_step`):"
      ]
    },
    {
      "cell_type": "code",
      "execution_count": 41,
      "metadata": {
        "id": "Ib1uF2GHeQlt"
      },
      "outputs": [],
      "source": [
        "pbar.attach(trainer, output_transform=lambda x: {'loss': x})"
      ]
    },
    {
      "cell_type": "markdown",
      "metadata": {
        "id": "Bf7_CjXvjj0K"
      },
      "source": [
        "## Create Evaluator\n",
        "\n",
        "Similar to the training `process_function`, we setup a function to evaluate a single batch of train/validation/test data.\n",
        "\n",
        "```python\n",
        "model.eval()\n",
        "for batch in eval_dataloader:\n",
        "    batch = {k: v.to(device) for k, v in batch.items()}\n",
        "    with torch.no_grad():\n",
        "        outputs = model(**batch)\n",
        "\n",
        "    logits = outputs.logits\n",
        "    predictions = torch.argmax(logits, dim=-1)\n",
        "    metric.add_batch(predictions=predictions, references=batch[\"labels\"])\n",
        "```\n",
        "\n",
        " Here is what `evaluate_step()` below does:\n",
        "\n",
        "* Sets model in eval mode.\n",
        "* Move items of the `batch` to `device`.\n",
        "* With `torch.no_grad()`, no gradients are calculated for any succeding steps.\n",
        "* Perform a forward pass on the model to calculate `outputs` from `batch`\n",
        "* Get the real `predictions` from `logits` (probability of positive and negative classes).\n",
        "\n",
        "Finally, we return the predictions and the actual labels so that we can compute the metrics.\n",
        "\n",
        "You will notice that we did not compute the metrics in `evaluate_step()`. This is because Ignite provides built-in [metrics](https://pytorch.org/ignite/concepts.html#metrics) which we can later attach to the engine."
      ]
    },
    {
      "cell_type": "markdown",
      "metadata": {
        "id": "98H3y4xagmao"
      },
      "source": [
        "**Note:** Ignite suggests attaching metrics to evaluators and not trainers because during the training the model parameters are constantly changing and it is best to evaluate model on a stationary model. This information is important as there is a difference in the functions for training and evaluating. Training returns a single scalar loss. Evaluating returns `y_pred` and `y` as that output is used to calculate metrics per batch for the entire dataset.\n",
        "\n",
        "All metrics in Ignite require `y_pred` and `y` as outputs of the function attached to the Engine. "
      ]
    },
    {
      "cell_type": "code",
      "execution_count": 42,
      "metadata": {
        "id": "H3F69ZOwcUdQ"
      },
      "outputs": [],
      "source": [
        "def evaluate_step(engine, batch):\n",
        "    model.eval()\n",
        "\n",
        "    batch = {k: v.to(device) for k, v in batch.items()}\n",
        "    with torch.no_grad():\n",
        "        outputs = model(**batch)\n",
        "\n",
        "    logits = outputs.logits\n",
        "    predictions = torch.argmax(logits, dim=-1)\n",
        "\n",
        "    return {'y_pred': predictions, 'y': batch[\"labels\"]}"
      ]
    },
    {
      "cell_type": "markdown",
      "metadata": {
        "id": "VFrSJYx-mutP"
      },
      "source": [
        "Below we create two engines, a training evaluator and a validation evaluator. `train_evaluator` and `validation_evaluator` use the same function but they serve different purposes as we will see later in this tutorial."
      ]
    },
    {
      "cell_type": "code",
      "execution_count": 43,
      "metadata": {
        "id": "xfxf_TGadIjc"
      },
      "outputs": [],
      "source": [
        "train_evaluator = Engine(evaluate_step)\n",
        "validation_evaluator = Engine(evaluate_step)"
      ]
    },
    {
      "cell_type": "markdown",
      "metadata": {
        "id": "ESp1oe8jjtI6"
      },
      "source": [
        "## Attach Metrics\n",
        "\n",
        "The 🤗 tutorial defines one metric, accuracy, to be used for evaluation:\n",
        "\n",
        "```python\n",
        "metric= load_metric(\"accuracy\")\n",
        "```\n",
        "\n",
        "We can easily attach Ignite's built-in [`Accuracy()`](https://pytorch.org/ignite/generated/ignite.metrics.Accuracy.html#accuracy) metric to to `train_evaluator` and `validation_evaluator`. We also need to specify the metric name (`accuracy` below). Internally, it will use `y_pred` and `y` to compute the accuracy. "
      ]
    },
    {
      "cell_type": "code",
      "execution_count": 44,
      "metadata": {
        "id": "RsT3Yq1sd5Os"
      },
      "outputs": [],
      "source": [
        "from ignite.metrics import Accuracy\n",
        "\n",
        "Accuracy().attach(train_evaluator, 'accuracy')\n",
        "Accuracy().attach(validation_evaluator, 'accuracy')"
      ]
    },
    {
      "cell_type": "markdown",
      "metadata": {
        "id": "so6yub_fjydU"
      },
      "source": [
        "## Log Metrics\n",
        "\n",
        "Now we will define custom handlers (functions) and attach them to various `Events` of the training process.\n",
        "\n",
        "The functions below both achieve similar tasks. They print the results of the `evaluator` run on a dataset. `log_training_results()` does this on the training evaluator and train dataset, while `log_validation_results()` on the validation evaluator and validation dataset. Another difference is how these functions are attached in the trainer engine.\n",
        "\n",
        "The first method involves using a decorator, the syntax is simple - `@` `trainer.on(Events.EPOCH_COMPLETED)`, means that the decorated function will be attached to the trainer and called at the end of each epoch. \n",
        "\n",
        "The second method involves using the add_event_handler method of trainer - `trainer.add_event_handler(Events.EPOCH_COMPLETED, custom_function)`. This achieves the same result as the above. "
      ]
    },
    {
      "cell_type": "code",
      "execution_count": null,
      "metadata": {
        "id": "mrl-60C9aEkW"
      },
      "outputs": [],
      "source": [
        "@trainer.on(Events.EPOCH_COMPLETED)\n",
        "def log_training_results(engine):\n",
        "    train_evaluator.run(train_dataloader)\n",
        "    metrics = train_evaluator.state.metrics\n",
        "    avg_accuracy = metrics['accuracy']\n",
        "    print(f\"Training Results - Epoch: {engine.state.epoch}  Avg accuracy: {avg_accuracy:.3f}\")\n",
        "    \n",
        "def log_validation_results(engine):\n",
        "    validation_evaluator.run(eval_dataloader)\n",
        "    metrics = validation_evaluator.state.metrics\n",
        "    avg_accuracy = metrics['accuracy']\n",
        "    print(f\"Validation Results - Epoch: {engine.state.epoch}  Avg accuracy: {avg_accuracy:.3f}\")\n",
        "\n",
        "trainer.add_event_handler(Events.EPOCH_COMPLETED, log_validation_results)"
      ]
    },
    {
      "cell_type": "markdown",
      "metadata": {
        "id": "fGbSjScZj2Bt"
      },
      "source": [
        "## Early Stopping\n",
        "\n",
        "Now we'll setup a [`EarlyStopping`](https://pytorch.org/ignite/generated/ignite.handlers.early_stopping.EarlyStopping.html#earlystopping) handler for the training process. `EarlyStopping` requires a score_function that allows the user to define whatever criteria to stop trainig. In this case, if the loss of the validation set does not decrease in 2 epochs (`patience`), the training process will stop early.  "
      ]
    },
    {
      "cell_type": "code",
      "execution_count": null,
      "metadata": {
        "id": "O0xElFVYeuL9"
      },
      "outputs": [],
      "source": [
        "from ignite.handlers import EarlyStopping\n",
        "\n",
        "def score_function(engine):\n",
        "    val_accuracy = engine.state.metrics['accuracy']\n",
        "    return val_accuracy\n",
        "\n",
        "handler = EarlyStopping(patience=2, score_function=score_function, trainer=trainer)\n",
        "validation_evaluator.add_event_handler(Events.COMPLETED, handler)"
      ]
    },
    {
      "cell_type": "markdown",
      "metadata": {
        "id": "C1UtBUmmj9dq"
      },
      "source": [
        "## Model Checkpoint\n",
        "\n",
        "Lastly, we want to save the best model weights. So we will use Ignite's [`ModelCheckpoint`](https://pytorch.org/ignite/generated/ignite.handlers.checkpoint.ModelCheckpoint.html#modelcheckpoint) handler to checkpoint models at the end of each epoch. This will create a `models` directory and save the 2 best models (`n_saved`) with the prefix `bert-base-cased`."
      ]
    },
    {
      "cell_type": "code",
      "execution_count": null,
      "metadata": {
        "id": "7xz8qozReQuG"
      },
      "outputs": [],
      "source": [
        "from ignite.handlers import ModelCheckpoint\n",
        "\n",
        "checkpointer = ModelCheckpoint(dirname='models', filename_prefix='bert-base-cased', n_saved=2, create_dir=True)\n",
        "trainer.add_event_handler(Events.EPOCH_COMPLETED, checkpointer, {'model': model})"
      ]
    },
    {
      "cell_type": "markdown",
      "metadata": {
        "id": "jgzcQVfvkAXK"
      },
      "source": [
        "## Begin Training!\n",
        "\n",
        "Next, we'll run the trainer for 10 epochs and monitor the results. Below we can see that `ProgessBar` prints the loss per iteration, and prints the results of training and validation as we specified in our custom function. "
      ]
    },
    {
      "cell_type": "code",
      "execution_count": null,
      "metadata": {
        "id": "sS0Ut5z0dmQc"
      },
      "outputs": [],
      "source": [
        "trainer.run(train_dataloader, max_epochs=num_epochs)"
      ]
    },
    {
      "cell_type": "markdown",
      "metadata": {
        "id": "OpqXiZUsznkY"
      },
      "source": [
        "That's it! We have successfully trained and evaluated a Transformer for Text Classification. "
      ]
    }
  ],
  "metadata": {
    "accelerator": "GPU",
    "colab": {
      "collapsed_sections": [],
      "name": "transformers-text-classification.ipynb",
      "provenance": []
    },
    "kernelspec": {
      "display_name": "Python 3",
      "language": "python",
      "name": "python3"
    },
    "language_info": {
      "codemirror_mode": {
        "name": "ipython",
        "version": 3
      },
      "file_extension": ".py",
      "mimetype": "text/x-python",
      "name": "python",
      "nbconvert_exporter": "python",
      "pygments_lexer": "ipython3",
      "version": "3.8.8"
    }
  },
  "nbformat": 4,
  "nbformat_minor": 0
}

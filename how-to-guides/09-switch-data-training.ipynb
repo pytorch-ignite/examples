{
  "nbformat": 4,
  "nbformat_minor": 5,
  "metadata": {
    "kernelspec": {
      "display_name": "Python 3 (ipykernel)",
      "language": "python",
      "name": "python3"
    },
    "language_info": {
      "codemirror_mode": {
        "name": "ipython",
        "version": 3
      },
      "file_extension": ".py",
      "mimetype": "text/x-python",
      "name": "python",
      "nbconvert_exporter": "python",
      "pygments_lexer": "ipython3",
      "version": "3.8.8"
    },
    "colab": {
      "name": "switch-data-training.ipynb",
      "provenance": []
    }
  },
  "cells": [
    {
      "cell_type": "markdown",
      "metadata": {
        "id": "OuJ-YDzWCgEI"
      },
      "source": [
        "<!-- ---\n",
        "title: How to switch data provider during training\n",
        "weight: 9\n",
        "downloads: true\n",
        "sidebar: true\n",
        "summary: Example on how to switch data during training after some number of iterations\n",
        "tags:\n",
        "  - custom events\n",
        "--- -->\n",
        "\n",
        "# How to switch data provider during training"
      ],
      "id": "OuJ-YDzWCgEI"
    },
    {
      "cell_type": "markdown",
      "metadata": {
        "id": "zi2JOUi1CgEO"
      },
      "source": [
        "In this example, we will see how one can easily switch the data provider during the training using\n",
        "[`set_data()`](https://pytorch.org/ignite/generated/ignite.engine.engine.Engine.html#ignite.engine.engine.Engine.set_data). "
      ],
      "id": "zi2JOUi1CgEO"
    },
    {
      "cell_type": "markdown",
      "metadata": {
        "id": "wJKPRmQZIV_S"
      },
      "source": [
        "## Basic Setup"
      ],
      "id": "wJKPRmQZIV_S"
    },
    {
      "cell_type": "markdown",
      "metadata": {
        "id": "QwpM9M-XI23h"
      },
      "source": [
        "### Required Dependencies"
      ],
      "id": "QwpM9M-XI23h"
    },
    {
      "cell_type": "code",
      "metadata": {
        "id": "H_UgUurNIb53"
      },
      "source": [
        "!pip install pytorch-ignite"
      ],
      "id": "H_UgUurNIb53",
      "execution_count": null,
      "outputs": []
    },
    {
      "cell_type": "markdown",
      "metadata": {
        "id": "Z2Yo1WSWI6vr"
      },
      "source": [
        "### Import"
      ],
      "id": "Z2Yo1WSWI6vr"
    },
    {
      "cell_type": "code",
      "metadata": {
        "id": "-2Ai1Ht_HWiB"
      },
      "source": [
        "from ignite.engine import Engine, Events"
      ],
      "id": "-2Ai1Ht_HWiB",
      "execution_count": 2,
      "outputs": []
    },
    {
      "cell_type": "markdown",
      "metadata": {
        "id": "Q9tTpXjmI9R_"
      },
      "source": [
        "### Data Providers"
      ],
      "id": "Q9tTpXjmI9R_"
    },
    {
      "cell_type": "code",
      "metadata": {
        "id": "g7ctwsy3Han_"
      },
      "source": [
        "data1 = [1, 2, 3]\n",
        "data2 = [11, 12, 13]"
      ],
      "id": "g7ctwsy3Han_",
      "execution_count": 3,
      "outputs": []
    },
    {
      "cell_type": "markdown",
      "metadata": {
        "id": "S-aQnuihJbZz"
      },
      "source": [
        "## Create dummy `trainer`\n",
        "\n",
        "Let's create a dummy `train_step` which will print the current iteration and batch of data. "
      ],
      "id": "S-aQnuihJbZz"
    },
    {
      "cell_type": "code",
      "metadata": {
        "id": "2Skq9nmSHnce"
      },
      "source": [
        "def train_step(engine, batch):\n",
        "    print(f\"Iter[{engine.state.iteration}] Current datapoint = \", batch)\n",
        "\n",
        "trainer = Engine(train_step)"
      ],
      "id": "2Skq9nmSHnce",
      "execution_count": 17,
      "outputs": []
    },
    {
      "cell_type": "markdown",
      "metadata": {
        "id": "YIBlmaO6JW9c"
      },
      "source": [
        "## Attach handler to switch data\n",
        "\n",
        "Now we have to decide when to switch the data provider. It can be after an epoch, iteration or something custom. Below, we are going to switch data after some specific iteration. And then we attach a handler to `trainer` that will be executed once after `switch_iteration` and use `set_data()` so that when:\n",
        "\n",
        "* iteration <= `switch_iteration`, batch is from `data1`\n",
        "* iteration > `switch_iteration`, batch is from `data2`"
      ],
      "id": "YIBlmaO6JW9c"
    },
    {
      "cell_type": "code",
      "metadata": {
        "id": "RaMkWUwnCgEQ"
      },
      "source": [
        "switch_iteration = 5\n",
        "\n",
        "\n",
        "@trainer.on(Events.ITERATION_COMPLETED(once=switch_iteration))\n",
        "def switch_dataloader():\n",
        "    print(\"<------- Switch Data ------->\")\n",
        "    trainer.set_data(data2)"
      ],
      "id": "RaMkWUwnCgEQ",
      "execution_count": 18,
      "outputs": []
    },
    {
      "cell_type": "markdown",
      "metadata": {
        "id": "BvJ2qms6M44n"
      },
      "source": [
        "And finally we run the `trainer` for some epochs."
      ],
      "id": "BvJ2qms6M44n"
    },
    {
      "cell_type": "code",
      "metadata": {
        "colab": {
          "base_uri": "https://localhost:8080/"
        },
        "id": "8W-WFdZ8HzJU",
        "outputId": "7c2c5a36-f657-4d75-8086-ec3fd1fdf10e"
      },
      "source": [
        "trainer.run(data1, max_epochs=5)"
      ],
      "id": "8W-WFdZ8HzJU",
      "execution_count": 19,
      "outputs": [
        {
          "output_type": "stream",
          "name": "stdout",
          "text": [
            "Iter[1] Current datapoint =  1\n",
            "Iter[2] Current datapoint =  2\n",
            "Iter[3] Current datapoint =  3\n",
            "Iter[4] Current datapoint =  1\n",
            "Iter[5] Current datapoint =  2\n",
            "<------- Switch Data ------->\n",
            "Iter[6] Current datapoint =  11\n",
            "Iter[7] Current datapoint =  12\n",
            "Iter[8] Current datapoint =  13\n",
            "Iter[9] Current datapoint =  11\n",
            "Iter[10] Current datapoint =  12\n",
            "Iter[11] Current datapoint =  13\n",
            "Iter[12] Current datapoint =  11\n",
            "Iter[13] Current datapoint =  12\n",
            "Iter[14] Current datapoint =  13\n",
            "Iter[15] Current datapoint =  11\n"
          ]
        },
        {
          "output_type": "execute_result",
          "data": {
            "text/plain": [
              "State:\n",
              "\titeration: 15\n",
              "\tepoch: 5\n",
              "\tepoch_length: 3\n",
              "\tmax_epochs: 5\n",
              "\toutput: <class 'NoneType'>\n",
              "\tbatch: 11\n",
              "\tmetrics: <class 'dict'>\n",
              "\tdataloader: <class 'list'>\n",
              "\tseed: <class 'NoneType'>\n",
              "\ttimes: <class 'dict'>"
            ]
          },
          "metadata": {},
          "execution_count": 19
        }
      ]
    }
  ]
}
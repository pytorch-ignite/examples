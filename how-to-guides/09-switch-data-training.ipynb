{
 "cells": [
  {
   "cell_type": "markdown",
   "id": "OuJ-YDzWCgEI",
   "metadata": {
    "id": "OuJ-YDzWCgEI"
   },
   "source": [
    "<!-- ---\n",
    "title: How to switch data provider during training\n",
    "weight: 9\n",
    "downloads: true\n",
    "sidebar: true\n",
    "summary: Example on how to switch data during training after some number of iterations\n",
    "tags:\n",
    "  - custom events\n",
    "--- -->\n",
    "\n",
    "# How to switch data provider during training"
   ]
  },
  {
   "cell_type": "markdown",
   "id": "zi2JOUi1CgEO",
   "metadata": {
    "id": "zi2JOUi1CgEO"
   },
   "source": [
    "In this example, we will see how one can easily switch the data provider during the training using\n",
    "[`set_data()`](https://pytorch.org/ignite/generated/ignite.engine.engine.Engine.html#ignite.engine.engine.Engine.set_data). "
   ]
  },
  {
   "cell_type": "markdown",
   "id": "wJKPRmQZIV_S",
   "metadata": {
    "id": "wJKPRmQZIV_S"
   },
   "source": [
    "## Basic Setup"
   ]
  },
  {
   "cell_type": "markdown",
   "id": "QwpM9M-XI23h",
   "metadata": {
    "id": "QwpM9M-XI23h"
   },
   "source": [
    "### Required Dependencies"
   ]
  },
  {
   "cell_type": "code",
   "execution_count": null,
   "id": "H_UgUurNIb53",
   "metadata": {
    "id": "H_UgUurNIb53"
   },
   "outputs": [],
   "source": [
    "!pip install pytorch-ignite"
   ]
  },
  {
   "cell_type": "markdown",
   "id": "Z2Yo1WSWI6vr",
   "metadata": {
    "id": "Z2Yo1WSWI6vr"
   },
   "source": [
    "### Import"
   ]
  },
  {
   "cell_type": "code",
   "execution_count": 2,
   "id": "-2Ai1Ht_HWiB",
   "metadata": {
    "id": "-2Ai1Ht_HWiB"
   },
   "outputs": [],
   "source": [
    "from ignite.engine import Engine, Events"
   ]
  },
  {
   "cell_type": "markdown",
   "id": "Q9tTpXjmI9R_",
   "metadata": {
    "id": "Q9tTpXjmI9R_"
   },
   "source": [
    "### Data Providers"
   ]
  },
  {
   "cell_type": "code",
   "execution_count": 3,
   "id": "g7ctwsy3Han_",
   "metadata": {
    "id": "g7ctwsy3Han_"
   },
   "outputs": [],
   "source": [
    "data1 = [1, 2, 3]\n",
    "data2 = [11, 12, 13]"
   ]
  },
  {
   "cell_type": "markdown",
   "id": "S-aQnuihJbZz",
   "metadata": {
    "id": "S-aQnuihJbZz"
   },
   "source": [
    "## Create dummy `trainer`\n",
    "\n",
    "Let's create a dummy `train_step` which will print the current iteration and batch of data. "
   ]
  },
  {
   "cell_type": "code",
   "execution_count": 17,
   "id": "2Skq9nmSHnce",
   "metadata": {
    "id": "2Skq9nmSHnce"
   },
   "outputs": [],
   "source": [
    "def train_step(engine, batch):\n",
    "    print(f\"Iter[{engine.state.iteration}] Current datapoint = \", batch)\n",
    "\n",
    "trainer = Engine(train_step)"
   ]
  },
  {
   "cell_type": "markdown",
   "id": "YIBlmaO6JW9c",
   "metadata": {
    "id": "YIBlmaO6JW9c"
   },
   "source": [
    "## Attach handler to switch data\n",
    "\n",
    "Now we have to decide when to switch the data provider. It can be after an epoch, iteration or something custom. Below, we are going to switch data after some specific iteration. And then we attach a handler to `trainer` that will be executed once after `switch_iteration` and use `set_data()` so that when:\n",
    "\n",
    "* iteration <= `switch_iteration`, batch is from `data1`\n",
    "* iteration > `switch_iteration`, batch is from `data2`"
   ]
  },
  {
   "cell_type": "code",
   "execution_count": 18,
   "id": "RaMkWUwnCgEQ",
   "metadata": {
    "id": "RaMkWUwnCgEQ"
   },
   "outputs": [],
   "source": [
    "switch_iteration = 5\n",
    "\n",
    "\n",
    "@trainer.on(Events.ITERATION_COMPLETED(once=switch_iteration))\n",
    "def switch_dataloader():\n",
    "    print(\"<------- Switch Data ------->\")\n",
    "    trainer.set_data(data2)"
   ]
  },
  {
   "cell_type": "markdown",
   "id": "BvJ2qms6M44n",
   "metadata": {
    "id": "BvJ2qms6M44n"
   },
   "source": [
    "And finally we run the `trainer` for some epochs."
   ]
  },
  {
   "cell_type": "code",
   "execution_count": 19,
   "id": "8W-WFdZ8HzJU",
   "metadata": {
    "colab": {
     "base_uri": "https://localhost:8080/"
    },
    "id": "8W-WFdZ8HzJU",
    "outputId": "7c2c5a36-f657-4d75-8086-ec3fd1fdf10e"
   },
   "outputs": [
    {
     "name": "stdout",
     "output_type": "stream",
     "text": [
      "Iter[1] Current datapoint =  1\n",
      "Iter[2] Current datapoint =  2\n",
      "Iter[3] Current datapoint =  3\n",
      "Iter[4] Current datapoint =  1\n",
      "Iter[5] Current datapoint =  2\n",
      "<------- Switch Data ------->\n",
      "Iter[6] Current datapoint =  11\n",
      "Iter[7] Current datapoint =  12\n",
      "Iter[8] Current datapoint =  13\n",
      "Iter[9] Current datapoint =  11\n",
      "Iter[10] Current datapoint =  12\n",
      "Iter[11] Current datapoint =  13\n",
      "Iter[12] Current datapoint =  11\n",
      "Iter[13] Current datapoint =  12\n",
      "Iter[14] Current datapoint =  13\n",
      "Iter[15] Current datapoint =  11\n"
     ]
    },
    {
     "data": {
      "text/plain": [
       "State:\n",
       "\titeration: 15\n",
       "\tepoch: 5\n",
       "\tepoch_length: 3\n",
       "\tmax_epochs: 5\n",
       "\toutput: <class 'NoneType'>\n",
       "\tbatch: 11\n",
       "\tmetrics: <class 'dict'>\n",
       "\tdataloader: <class 'list'>\n",
       "\tseed: <class 'NoneType'>\n",
       "\ttimes: <class 'dict'>"
      ]
     },
     "execution_count": 19,
     "metadata": {},
     "output_type": "execute_result"
    }
   ],
   "source": [
    "trainer.run(data1, max_epochs=5)"
   ]
  }
 ],
 "metadata": {
  "colab": {
   "name": "switch-data-training.ipynb",
   "provenance": []
  },
  "kernelspec": {
   "display_name": "Python 3 (ipykernel)",
   "language": "python",
   "name": "python3"
  },
  "language_info": {
   "codemirror_mode": {
    "name": "ipython",
    "version": 3
   },
   "file_extension": ".py",
   "mimetype": "text/x-python",
   "name": "python",
   "nbconvert_exporter": "python",
   "pygments_lexer": "ipython3",
   "version": "3.8.8"
  }
 },
 "nbformat": 4,
 "nbformat_minor": 5
}

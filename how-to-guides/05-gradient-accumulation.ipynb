{
 "cells": [
  {
   "cell_type": "markdown",
   "metadata": {},
   "source": [
    "<!-- ---\n",
    "title: How to effectively increase batch size on limited compute\n",
    "date: 2021-08-04\n",
    "weight: 5\n",
    "downloads: true\n",
    "sidebar: true\n",
    "tags:\n",
    "  - gradient accumulation\n",
    "--- -->\n",
    "# How to effectively increase batch size on limited compute\n",
    "\n",
    "To effectively increase the batch size on limited GPU resources, follow\n",
    "this simple best practice.\n",
    "\n",
    "<!--more-->"
   ]
  },
  {
   "cell_type": "code",
   "execution_count": 1,
   "metadata": {},
   "outputs": [],
   "source": [
    "from ignite.engine import Engine\n",
    "\n",
    "accumulation_steps = 4\n",
    "\n",
    "def update_fn(engine, batch):\n",
    "    model.train()\n",
    "\n",
    "    x, y = prepare_batch(batch, device=device, non_blocking=non_blocking)\n",
    "    y_pred = model(x)\n",
    "    loss = criterion(y_pred, y) / accumulation_steps\n",
    "    loss.backward()\n",
    "\n",
    "    if engine.state.iteration % accumulation_steps == 0:\n",
    "        optimizer.step()\n",
    "        optimizer.zero_grad()\n",
    "\n",
    "    return loss.item()\n",
    "\n",
    "trainer = Engine(update_fn)"
   ]
  },
  {
   "cell_type": "markdown",
   "metadata": {},
   "source": [
    "If you prefer to use the PyTorch-Ignite helper functions for supervised training mentioned [here](https://pytorch.org/ignite/engine.html#helper-methods-to-define-supervised-trainer-and-evaluator), they also support Gradient Accumulation through the ``gradient_accumulation_steps`` parameter. \n",
    "For example \n",
    "\n",
    "```python\n",
    "update_fn = supervised_training_step(model, optimizer, criterion, gradient_accumulation_steps=4)\n",
    "trainer = Engine(update_fn)\n",
    "```\n",
    "would result in the same Engine as above."
   ]
  },
  {
   "cell_type": "markdown",
   "metadata": {},
   "source": [
    "## Resources\n",
    "\n",
    "1.  [Training Neural Nets on Larger Batches: Practical Tips for 1-GPU,\n",
    "    Multi-GPU & Distributed\n",
    "    setups](https://medium.com/huggingface/training-larger-batches-practical-tips-on-1-gpu-multi-gpu-distributed-setups-ec88c3e51255)\n",
    "2.  [Code](https://gist.github.com/thomwolf/ac7a7da6b1888c2eeac8ac8b9b05d3d3#file-gradient_accumulation-py)"
   ]
  },
  {
   "cell_type": "code",
   "execution_count": null,
   "metadata": {},
   "outputs": [],
   "source": []
  }
 ],
 "metadata": {
  "kernelspec": {
   "display_name": "Python 3",
   "language": "python",
   "name": "python3"
  },
  "language_info": {
   "codemirror_mode": {
    "name": "ipython",
    "version": 3
   },
   "file_extension": ".py",
   "mimetype": "text/x-python",
   "name": "python",
   "nbconvert_exporter": "python",
   "pygments_lexer": "ipython3",
   "version": "3.8.5"
  }
 },
 "nbformat": 4,
 "nbformat_minor": 5
}

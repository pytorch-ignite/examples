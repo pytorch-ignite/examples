{
  "nbformat": 4,
  "nbformat_minor": 5,
  "metadata": {
    "kernelspec": {
      "display_name": "Python 3 (ipykernel)",
      "language": "python",
      "name": "python3"
    },
    "language_info": {
      "codemirror_mode": {
        "name": "ipython",
        "version": 3
      },
      "file_extension": ".py",
      "mimetype": "text/x-python",
      "name": "python",
      "nbconvert_exporter": "python",
      "pygments_lexer": "ipython3",
      "version": "3.8.8"
    },
    "colab": {
      "name": "11-load-checkpoint.ipynb",
      "provenance": [],
      "collapsed_sections": []
    },
    "accelerator": "GPU"
  },
  "cells": [
    {
      "cell_type": "markdown",
      "metadata": {
        "id": "HgljXEAJEcFq"
      },
      "source": [
        "<!-- ---\n",
        "title: How to load checkpoint and resume training\n",
        "weight: 11\n",
        "downloads: true\n",
        "sidebar: true\n",
        "summary: This example demonstrates how you can save and load a checkpoint then resume training.\n",
        "tags:\n",
        "  - load checkpoint\n",
        "--- -->\n",
        "# How to load checkpoint and resume training"
      ],
      "id": "HgljXEAJEcFq"
    },
    {
      "cell_type": "markdown",
      "metadata": {
        "id": "hQPlnvmfEfir"
      },
      "source": [
        "## Required Dependencies"
      ],
      "id": "hQPlnvmfEfir"
    },
    {
      "cell_type": "code",
      "metadata": {
        "id": "3d09Jnzt_qmp"
      },
      "source": [
        "!pip install pytorch-ignite -q"
      ],
      "id": "3d09Jnzt_qmp",
      "execution_count": 21,
      "outputs": []
    },
    {
      "cell_type": "markdown",
      "metadata": {
        "id": "DcnSr5sGEcFz"
      },
      "source": [
        "## Basic Setup"
      ],
      "id": "DcnSr5sGEcFz"
    },
    {
      "cell_type": "code",
      "metadata": {
        "pycharm": {
          "is_executing": false
        },
        "id": "Y0sJP9iFa1TB"
      },
      "source": [
        "import torch\n",
        "from torch import nn\n",
        "from torch.utils.data import DataLoader\n",
        "from torchvision.datasets import MNIST\n",
        "from torchvision.models import resnet18\n",
        "from torchvision.transforms import Compose, Normalize, ToTensor\n",
        "\n",
        "from ignite.engine import Events, create_supervised_trainer, create_supervised_evaluator\n",
        "from ignite.metrics import Accuracy, Loss\n",
        "from ignite.handlers import Checkpoint, global_step_from_engine"
      ],
      "id": "Y0sJP9iFa1TB",
      "execution_count": 10,
      "outputs": []
    },
    {
      "cell_type": "code",
      "metadata": {
        "id": "iK_9cOP6a1TI"
      },
      "source": [
        "device = torch.device(\"cuda\" if torch.cuda.is_available() else \"cpu\")\n",
        "\n",
        "\n",
        "class Net(nn.Module):\n",
        "    def __init__(self):\n",
        "        super(Net, self).__init__()\n",
        "\n",
        "        self.model = resnet18(num_classes=10)\n",
        "        self.model.conv1 = nn.Conv2d(1, 64, kernel_size=3, padding=1, bias=False)\n",
        "\n",
        "    def forward(self, x):\n",
        "        return self.model(x)\n",
        "\n",
        "\n",
        "model = Net().to(device)\n",
        "\n",
        "data_transform = Compose([ToTensor(), Normalize((0.1307,), (0.3081,))])\n",
        "\n",
        "train_loader = DataLoader(\n",
        "    MNIST(download=True, root=\".\", transform=data_transform, train=True),\n",
        "    batch_size=128,\n",
        "    shuffle=True,\n",
        ")\n",
        "\n",
        "val_loader = DataLoader(\n",
        "    MNIST(download=True, root=\".\", transform=data_transform, train=False),\n",
        "    batch_size=256,\n",
        "    shuffle=False,\n",
        ")\n",
        "\n",
        "optimizer = torch.optim.RMSprop(model.parameters(), lr=0.005)\n",
        "criterion = nn.CrossEntropyLoss()"
      ],
      "id": "iK_9cOP6a1TI",
      "execution_count": 11,
      "outputs": []
    },
    {
      "cell_type": "code",
      "metadata": {
        "id": "ItoswUK-23St"
      },
      "source": [
        "trainer = create_supervised_trainer(model, optimizer, criterion, device=device)\n",
        "evaluator = create_supervised_evaluator(\n",
        "    model, metrics={\"accuracy\": Accuracy(), \"loss\": Loss(criterion)}, device=device\n",
        ")\n",
        "\n",
        "@trainer.on(Events.EPOCH_COMPLETED)\n",
        "def log_validation_results(trainer):\n",
        "    evaluator.run(val_loader)\n",
        "    metrics = evaluator.state.metrics\n",
        "    print(\n",
        "        f\"Validation Results - Epoch[{trainer.state.epoch}] Avg accuracy: {metrics['accuracy']:.2f} Avg loss: {metrics['loss']:.2f}\"\n",
        "    )"
      ],
      "id": "ItoswUK-23St",
      "execution_count": 12,
      "outputs": []
    },
    {
      "cell_type": "markdown",
      "metadata": {
        "id": "7JRLbhiw903w"
      },
      "source": [
        "## Checkpoint\n",
        "\n",
        "We can use [`Checkpoint()`](https://pytorch.org/ignite/generated/ignite.handlers.checkpoint.Checkpoint.html#checkpoint) as shown below to save the latest model after each epoch is completed. `to_save` here also saves the state of the optimizer and `trainer` in case we want to load this checkpoint and resume training."
      ],
      "id": "7JRLbhiw903w"
    },
    {
      "cell_type": "code",
      "metadata": {
        "id": "W6Zd7vKn1LLO",
        "colab": {
          "base_uri": "https://localhost:8080/"
        },
        "outputId": "8cd5c653-7092-43f8-8751-2a3f1920c9c2"
      },
      "source": [
        "to_save = {'model': model, 'optimizer': optimizer, 'trainer': trainer}\n",
        "checkpoint_dir = \"checkpoints/\"\n",
        "\n",
        "checkpoint = Checkpoint(\n",
        "    to_save,\n",
        "    checkpoint_dir,\n",
        "    n_saved=1,\n",
        "    global_step_transform=global_step_from_engine(trainer),\n",
        ")  \n",
        "evaluator.add_event_handler(Events.COMPLETED, checkpoint)"
      ],
      "id": "W6Zd7vKn1LLO",
      "execution_count": 13,
      "outputs": [
        {
          "output_type": "execute_result",
          "data": {
            "text/plain": [
              "<ignite.engine.events.RemovableEventHandle at 0x7fa4b0365750>"
            ]
          },
          "metadata": {},
          "execution_count": 13
        }
      ]
    },
    {
      "cell_type": "markdown",
      "metadata": {
        "id": "Aq0qwiZrEcF_"
      },
      "source": [
        "## Start Training\n",
        "\n",
        "Finally, we start the engine on the training dataset and run it for 2\n",
        "epochs:"
      ],
      "id": "Aq0qwiZrEcF_"
    },
    {
      "cell_type": "code",
      "metadata": {
        "colab": {
          "base_uri": "https://localhost:8080/"
        },
        "id": "qnmTh4FeEcGA",
        "outputId": "6f36fdb0-f246-4e61-c1cf-dc4fb0c2f365"
      },
      "source": [
        "trainer.run(train_loader, max_epochs=2)"
      ],
      "id": "qnmTh4FeEcGA",
      "execution_count": 14,
      "outputs": [
        {
          "output_type": "stream",
          "name": "stdout",
          "text": [
            "Validation Results - Epoch[1] Avg accuracy: 0.96 Avg loss: 0.13\n",
            "Validation Results - Epoch[2] Avg accuracy: 0.99 Avg loss: 0.04\n"
          ]
        },
        {
          "output_type": "execute_result",
          "data": {
            "text/plain": [
              "State:\n",
              "\titeration: 938\n",
              "\tepoch: 2\n",
              "\tepoch_length: 469\n",
              "\tmax_epochs: 2\n",
              "\toutput: 0.027751201763749123\n",
              "\tbatch: <class 'list'>\n",
              "\tmetrics: <class 'dict'>\n",
              "\tdataloader: <class 'torch.utils.data.dataloader.DataLoader'>\n",
              "\tseed: <class 'NoneType'>\n",
              "\ttimes: <class 'dict'>"
            ]
          },
          "metadata": {},
          "execution_count": 14
        }
      ]
    },
    {
      "cell_type": "markdown",
      "metadata": {
        "id": "Nui9l-60g5Zy"
      },
      "source": [
        "## Load Checkpoint"
      ],
      "id": "Nui9l-60g5Zy"
    },
    {
      "cell_type": "code",
      "metadata": {
        "colab": {
          "base_uri": "https://localhost:8080/"
        },
        "id": "_xj4NMjdArYh",
        "outputId": "f078a693-efca-4d40-e288-be66607b2433"
      },
      "source": [
        "!ls checkpoints"
      ],
      "id": "_xj4NMjdArYh",
      "execution_count": 16,
      "outputs": [
        {
          "output_type": "stream",
          "name": "stdout",
          "text": [
            "checkpoint_2.pt\n"
          ]
        }
      ]
    },
    {
      "cell_type": "markdown",
      "metadata": {
        "id": "GaMgrEYtD6YM"
      },
      "source": [
        "We can use [`load_objects()`](https://pytorch.org/ignite/generated/ignite.handlers.checkpoint.Checkpoint.html#ignite.handlers.checkpoint.Checkpoint.load_objects) to apply the state of our checkpoint to the objects stored in `to_save`."
      ],
      "id": "GaMgrEYtD6YM"
    },
    {
      "cell_type": "code",
      "metadata": {
        "id": "ovuakd8yBfa2"
      },
      "source": [
        "checkpoint_fp = checkpoint_dir + \"checkpoint_2.pt\"\n",
        "checkpoint = torch.load(checkpoint_fp, map_location=device) \n",
        "Checkpoint.load_objects(to_load=to_save, checkpoint=checkpoint) "
      ],
      "id": "ovuakd8yBfa2",
      "execution_count": 19,
      "outputs": []
    },
    {
      "cell_type": "markdown",
      "metadata": {
        "id": "4XqVAePJg-AO"
      },
      "source": [
        "## Resume Training"
      ],
      "id": "4XqVAePJg-AO"
    },
    {
      "cell_type": "code",
      "metadata": {
        "colab": {
          "base_uri": "https://localhost:8080/"
        },
        "id": "SEuDCH3xhAcz",
        "outputId": "c1f9b616-f8f8-4722-a905-9bcc4aea75ba"
      },
      "source": [
        "trainer.run(train_loader, max_epochs=4)"
      ],
      "id": "SEuDCH3xhAcz",
      "execution_count": 20,
      "outputs": [
        {
          "output_type": "stream",
          "name": "stdout",
          "text": [
            "Validation Results - Epoch[1] Avg accuracy: 0.99 Avg loss: 0.03\n",
            "Validation Results - Epoch[2] Avg accuracy: 0.99 Avg loss: 0.03\n"
          ]
        },
        {
          "output_type": "execute_result",
          "data": {
            "text/plain": [
              "State:\n",
              "\titeration: 938\n",
              "\tepoch: 2\n",
              "\tepoch_length: 469\n",
              "\tmax_epochs: 2\n",
              "\toutput: 0.013897030614316463\n",
              "\tbatch: <class 'list'>\n",
              "\tmetrics: <class 'dict'>\n",
              "\tdataloader: <class 'torch.utils.data.dataloader.DataLoader'>\n",
              "\tseed: <class 'NoneType'>\n",
              "\ttimes: <class 'dict'>"
            ]
          },
          "metadata": {},
          "execution_count": 20
        }
      ]
    }
  ]
}
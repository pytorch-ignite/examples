{
 "cells": [
  {
   "cell_type": "markdown",
   "source": [
    "# How to create Custom Events based on Forward or Backward Pass"
   ],
   "metadata": {}
  },
  {
   "cell_type": "markdown",
   "source": [
    "This example demonstrates how you can create [custom events](https://pytorch.org/ignite/concepts.html#custom-events) such they depend on the loss calculated and backward pass."
   ],
   "metadata": {}
  },
  {
   "cell_type": "code",
   "execution_count": 1,
   "source": [
    "from ignite.engine import EventEnum, Engine\n",
    "\n",
    "class BackpropEvents(EventEnum):\n",
    "    \"\"\"\n",
    "    Events based on backpropagation\n",
    "    \"\"\"\n",
    "    BACKWARD_STARTED = 'backward_started'\n",
    "    BACKWARD_COMPLETED = 'backward_completed'\n",
    "    OPTIM_STEP_COMPLETED = 'optim_step_completed'\n",
    "\n",
    "def update(engine, batch):\n",
    "    model.train()\n",
    "    opitmizer.zero_grad()\n",
    "    x, y = process_batch(batch)\n",
    "    y_pred = model(x)\n",
    "\n",
    "    loss = loss_fn(y_pred, y)\n",
    "    engine.fire_event(BackpropEvents.BACKWARD_STARTED)\n",
    "\n",
    "    loss.backward()\n",
    "    engine.fire_event(BackpropEvents.BACKWARD_COMPLETED)\n",
    "\n",
    "    optimizer.step() \n",
    "    engine.fire_event(BackpropEvents.OPTIM_STEP_COMPLETED)\n",
    "\n",
    "    return loss.item()\n",
    "\n",
    "trainer = Engine(update)\n",
    "trainer.register_events(*BackpropEvents)\n",
    "\n",
    "@trainer.on(BackpropEvents.BACKWARD_STARTED)\n",
    "def function_before_backprop(engine):\n",
    "    # custom function\n",
    "    print(\"Hello\")"
   ],
   "outputs": [],
   "metadata": {}
  },
  {
   "cell_type": "markdown",
   "source": [
    "For a detailed implementation, read [TBPTT Trainer](https://pytorch.org/ignite/_modules/ignite/contrib/engines/tbptt.html#create_supervised_tbptt_trainer)."
   ],
   "metadata": {}
  }
 ],
 "metadata": {
  "kernelspec": {
   "display_name": "Python 3 (ipykernel)",
   "language": "python",
   "name": "python3"
  },
  "language_info": {
   "codemirror_mode": {
    "name": "ipython",
    "version": 3
   },
   "file_extension": ".py",
   "mimetype": "text/x-python",
   "name": "python",
   "nbconvert_exporter": "python",
   "pygments_lexer": "ipython3",
   "version": "3.8.8"
  }
 },
 "nbformat": 4,
 "nbformat_minor": 5
}
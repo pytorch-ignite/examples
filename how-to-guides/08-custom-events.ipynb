{
  "nbformat": 4,
  "nbformat_minor": 5,
  "metadata": {
    "kernelspec": {
      "display_name": "Python 3 (ipykernel)",
      "language": "python",
      "name": "python3"
    },
    "language_info": {
      "codemirror_mode": {
        "name": "ipython",
        "version": 3
      },
      "file_extension": ".py",
      "mimetype": "text/x-python",
      "name": "python",
      "nbconvert_exporter": "python",
      "pygments_lexer": "ipython3",
      "version": "3.8.8"
    },
    "colab": {
      "name": "08-custom-events.ipynb",
      "provenance": []
    },
    "accelerator": "GPU"
  },
  "cells": [
    {
      "cell_type": "markdown",
      "metadata": {
        "id": "YQCt0TA0uaNc"
      },
      "source": [
        "<!-- ---\n",
        "title: How to create Custom Events based on Forward or Backward Pass\n",
        "weight: 8\n",
        "downloads: true\n",
        "sidebar: true\n",
        "summary: Learn how to create custom events that depend on the loss calculated, backward pass, optimization step, etc.\n",
        "tags:\n",
        "  - custom events\n",
        "--- -->\n",
        "# How to create Custom Events based on Forward or Backward Pass"
      ],
      "id": "YQCt0TA0uaNc"
    },
    {
      "cell_type": "markdown",
      "metadata": {
        "id": "aMOY2iPOuaNk"
      },
      "source": [
        "This guide demonstrates how you can create [custom events](https://pytorch.org/ignite/concepts.html#custom-events) that depend on the loss calculated and backward pass.\n",
        "\n",
        "In this example, we will be using a ResNet18 model on the MNIST dataset. The base code is the same as used in the [Getting Started Guide](https://pytorch-ignite.ai/tutorials/getting-started/)."
      ],
      "id": "aMOY2iPOuaNk"
    },
    {
      "cell_type": "markdown",
      "metadata": {
        "id": "THcUNAgpWMDF"
      },
      "source": [
        "## Basic Setup"
      ],
      "id": "THcUNAgpWMDF"
    },
    {
      "cell_type": "code",
      "metadata": {
        "pycharm": {
          "is_executing": false
        },
        "id": "Y0sJP9iFa1TB"
      },
      "source": [
        "import pandas as pd\n",
        "\n",
        "import torch\n",
        "from torch import nn\n",
        "from torch.utils.data import DataLoader\n",
        "from torchvision.datasets import MNIST\n",
        "from torchvision.models import resnet18\n",
        "from torchvision.transforms import Compose, Normalize, ToTensor\n",
        "\n",
        "from ignite.engine import Engine, EventEnum, Events, create_supervised_evaluator\n",
        "from ignite.metrics import Accuracy, Loss\n",
        "from ignite.handlers import Timer\n",
        "from ignite.contrib.handlers import BasicTimeProfiler, HandlersTimeProfiler"
      ],
      "id": "Y0sJP9iFa1TB",
      "execution_count": 7,
      "outputs": []
    },
    {
      "cell_type": "code",
      "metadata": {
        "id": "iK_9cOP6a1TI"
      },
      "source": [
        "device = torch.device(\"cuda\" if torch.cuda.is_available() else \"cpu\")\n",
        "\n",
        "\n",
        "class Net(nn.Module):\n",
        "    def __init__(self):\n",
        "        super(Net, self).__init__()\n",
        "\n",
        "        self.model = resnet18(num_classes=10)\n",
        "        self.model.conv1 = nn.Conv2d(1, 64, kernel_size=3, padding=1, bias=False)\n",
        "\n",
        "    def forward(self, x):\n",
        "        return self.model(x)\n",
        "\n",
        "\n",
        "model = Net().to(device)\n",
        "\n",
        "data_transform = Compose([ToTensor(), Normalize((0.1307,), (0.3081,))])\n",
        "\n",
        "train_loader = DataLoader(\n",
        "    MNIST(download=True, root=\".\", transform=data_transform, train=True),\n",
        "    batch_size=128,\n",
        "    shuffle=True,\n",
        ")\n",
        "\n",
        "optimizer = torch.optim.RMSprop(model.parameters(), lr=0.005)\n",
        "criterion = nn.CrossEntropyLoss()"
      ],
      "id": "iK_9cOP6a1TI",
      "execution_count": null,
      "outputs": []
    },
    {
      "cell_type": "markdown",
      "metadata": {
        "id": "Q_u0IS8q9IY-"
      },
      "source": [
        "## Create Custom Events\n",
        "\n",
        "First let's create a few custom events based on backpropogation. All user-defined custom events should inherit from the base class [`EventEnum`](https://pytorch.org/ignite/generated/ignite.engine.events.EventEnum.html#ignite.engine.events.EventEnum)."
      ],
      "id": "Q_u0IS8q9IY-"
    },
    {
      "cell_type": "code",
      "metadata": {
        "id": "TbEoK_H8yIAj"
      },
      "source": [
        "class BackpropEvents(EventEnum):\n",
        "    BACKWARD_STARTED = 'backward_started'\n",
        "    BACKWARD_COMPLETED = 'backward_completed'\n",
        "    OPTIM_STEP_COMPLETED = 'optim_step_completed'"
      ],
      "id": "TbEoK_H8yIAj",
      "execution_count": 27,
      "outputs": []
    },
    {
      "cell_type": "markdown",
      "metadata": {
        "id": "9lwr621Y9Lnx"
      },
      "source": [
        "## Create `trainer`\n",
        "\n",
        "Then we define the `train_step` function to be applied on all batches. Within this, we use [`fire_event`](https://pytorch.org/ignite/generated/ignite.engine.engine.Engine.html#ignite.engine.engine.Engine.fire_event) to execute all handlers related to a specific event at that point."
      ],
      "id": "9lwr621Y9Lnx"
    },
    {
      "cell_type": "code",
      "metadata": {
        "id": "8aqUFTEdxxvz"
      },
      "source": [
        "def train_step(engine, batch):\n",
        "    model.train()\n",
        "    optimizer.zero_grad()\n",
        "    x, y = batch[0].to(device), batch[1].to(device)\n",
        "    y_pred = model(x)\n",
        "    loss = criterion(y_pred, y)\n",
        "    \n",
        "    engine.fire_event(BackpropEvents.BACKWARD_STARTED)\n",
        "    loss.backward()\n",
        "    engine.fire_event(BackpropEvents.BACKWARD_COMPLETED)\n",
        "\n",
        "    optimizer.step()\n",
        "    engine.fire_event(BackpropEvents.OPTIM_STEP_COMPLETED)\n",
        "\n",
        "    return loss.item()\n",
        "\n",
        "\n",
        "trainer = Engine(train_step)"
      ],
      "id": "8aqUFTEdxxvz",
      "execution_count": 28,
      "outputs": []
    },
    {
      "cell_type": "markdown",
      "metadata": {
        "id": "eiLRGHAK9Q12"
      },
      "source": [
        "## Register Custom Events in `trainer`\n",
        "\n",
        "Finally, to make sure our events can be fired, we register them in `trainer` using [`register_events`](https://pytorch.org/ignite/generated/ignite.engine.engine.Engine.html#ignite.engine.engine.Engine.register_events)."
      ],
      "id": "eiLRGHAK9Q12"
    },
    {
      "cell_type": "code",
      "metadata": {
        "id": "4byi6J6N9d4K"
      },
      "source": [
        "trainer.register_events(*BackpropEvents)"
      ],
      "id": "4byi6J6N9d4K",
      "execution_count": null,
      "outputs": []
    },
    {
      "cell_type": "markdown",
      "metadata": {
        "id": "WZbJwRUD9e-d"
      },
      "source": [
        "## Attach handlers to Custom Events\n",
        "\n",
        "And now we can easily attach handlers to be executed when a particular event like `BACKWARD_COMPLETED` is fired."
      ],
      "id": "WZbJwRUD9e-d"
    },
    {
      "cell_type": "code",
      "metadata": {
        "id": "9Dp6QBfQysOq"
      },
      "source": [
        "@trainer.on(BackpropEvents.BACKWARD_COMPLETED)\n",
        "def function_before_backprop(engine):\n",
        "    print(f\"Iter[{engine.state.iteration}] Function fired after backward pass\")"
      ],
      "id": "9Dp6QBfQysOq",
      "execution_count": 29,
      "outputs": []
    },
    {
      "cell_type": "markdown",
      "metadata": {
        "id": "XMKXagQk-VLl"
      },
      "source": [
        "And finally you can run the `trainer` for some epochs. "
      ],
      "id": "XMKXagQk-VLl"
    },
    {
      "cell_type": "code",
      "metadata": {
        "id": "3G9DV6h767fj"
      },
      "source": [
        "trainer.run(train_loader, max_epochs=3)"
      ],
      "id": "3G9DV6h767fj",
      "execution_count": null,
      "outputs": []
    },
    {
      "cell_type": "markdown",
      "metadata": {
        "id": "x031SkP2-Lg9"
      },
      "source": [
        "## Additional Links\n",
        "\n",
        "You can also checkout the source code of [TBPTT Trainer](https://pytorch.org/ignite/_modules/ignite/contrib/engines/tbptt.html#create_supervised_tbptt_trainer) for a detailed explanation."
      ],
      "id": "x031SkP2-Lg9"
    }
  ]
}
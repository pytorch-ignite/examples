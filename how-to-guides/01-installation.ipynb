{
 "cells": [
  {
   "cell_type": "markdown",
   "source": [
    "<!-- ---\n",
    "title: How to install PyTorch-Ignite\n",
    "date: 2021-08-04\n",
    "weight: 1\n",
    "downloads: true\n",
    "sidebar: true\n",
    "summary: Install PyTorch-Ignite from pip, conda, source or use pre-built docker images\n",
    "tags:\n",
    "  - installation\n",
    "  - pip\n",
    "  - docker images\n",
    "  - conda\n",
    "  - nightly\n",
    "--- -->\n",
    "# How to install PyTorch-Ignite"
   ],
   "metadata": {}
  },
  {
   "cell_type": "markdown",
   "source": [
    "From [pip](https://pypi.org/project/pytorch-ignite/):\n",
    "\n",
    "``` shell\n",
    "pip install pytorch-ignite\n",
    "```\n",
    "\n",
    "From [conda](https://anaconda.org/pytorch/ignite):\n",
    "\n",
    "``` shell\n",
    "conda install ignite -c pytorch\n",
    "```\n",
    "\n",
    "From source:\n",
    "\n",
    "``` shell\n",
    "pip install git+https://github.com/pytorch/ignite\n",
    "```"
   ],
   "metadata": {}
  },
  {
   "cell_type": "markdown",
   "source": [
    "## Nightly releases\n",
    "\n",
    "From pip:\n",
    "\n",
    "``` shell\n",
    "pip install --pre pytorch-ignite\n",
    "```\n",
    "\n",
    "From conda (please install the [pytorch nightly\n",
    "release](https://anaconda.org/pytorch-nightly/pytorch) instead of the\n",
    "stable version as a dependency):\n",
    "\n",
    "``` shell\n",
    "conda install ignite -c pytorch-nightly\n",
    "```"
   ],
   "metadata": {}
  },
  {
   "cell_type": "markdown",
   "source": [
    "\n",
    "## Docker Images\n",
    "\n",
    "### Using pre-built images\n",
    "\n",
    "Pull a pre-built docker image from [our Docker\n",
    "Hub](https://hub.docker.com/u/pytorchignite) using :\n",
    "\n",
    "``` shell\n",
    "docker pull IMAGE_NAME\n",
    "```\n",
    "\n",
    "Available pre-built images are :\n",
    "\n",
    "|               |                                           Base                                           |                                             Horovod                                              |                                            MS DeepSpeed                                            |\n",
    "|:-------------:|:----------------------------------------------------------------------------------------:|:------------------------------------------------------------------------------------------------:|:--------------------------------------------------------------------------------------------------:|\n",
    "|     Base      |        [`pytorchignite/base:latest`](https://hub.docker.com/r/pytorchignite/base)        |        [`pytorchignite/hvd-base:latest`](https://hub.docker.com/r/pytorchignite/hvd-base)        |                                                 X                                                  |\n",
    "|    Vision     |      [`pytorchignite/vision:latest`](https://hub.docker.com/r/pytorchignite/vision)      |      [`pytorchignite/hvd-vision:latest`](https://hub.docker.com/r/pytorchignite/hvd-vision)      |                                                 X                                                  |\n",
    "|      NLP      |         [`pytorchignite/nlp:latest`](https://hub.docker.com/r/pytorchignite/nlp)         |         [`pytorchignite/hvd-nlp:latest`](https://hub.docker.com/r/pytorchignite/hvd-nlp)         |                                                 X                                                  |\n",
    "|  NVIDIA Apex  |        [`pytorchignite/apex:latest`](https://hub.docker.com/r/pytorchignite/apex)        |        [`pytorchignite/hvd-apex:latest`](https://hub.docker.com/r/pytorchignite/hvd-apex)        |        [`pytorchignite/msdp-apex:latest`](https://hub.docker.com/r/pytorchignite/msdp-apex)        |\n",
    "| Apex + Vision | [`pytorchignite/apex-vision:latest`](https://hub.docker.com/r/pytorchignite/apex-vision) | [`pytorchignite/hvd-apex-vision:latest`](https://hub.docker.com/r/pytorchignite/hvd-apex-vision) | [`pytorchignite/msdp-apex-vision:latest`](https://hub.docker.com/r/pytorchignite/msdp-apex-vision) |\n",
    "|  Apex + NLP   |    [`pytorchignite/apex-nlp:latest`](https://hub.docker.com/r/pytorchignite/apex-nlp)    |    [`pytorchignite/hvd-apex-nlp:latest`](https://hub.docker.com/r/pytorchignite/hvd-apex-nlp)    |    [`pytorchignite/msdp-apex-nlp:latest`](https://hub.docker.com/r/pytorchignite/msdp-apex-nlp)    |\n",
    "\n",
    "and run it with Docker v19.03+ :\n",
    "\n",
    "``` shell\n",
    "docker run --gpus all -it -v $PWD:/workspace/project --network=host --shm-size 16G IMAGE_NAME\n",
    "```\n",
    "\n",
    "For more details, [check out our\n",
    "GitHub](https://github.com/pytorch/ignite/tree/master/docker)."
   ],
   "metadata": {}
  }
 ],
 "metadata": {
  "kernelspec": {
   "display_name": "Python 3 (ipykernel)",
   "language": "python",
   "name": "python3"
  },
  "language_info": {
   "codemirror_mode": {
    "name": "ipython",
    "version": 3
   },
   "file_extension": ".py",
   "mimetype": "text/x-python",
   "name": "python",
   "nbconvert_exporter": "python",
   "pygments_lexer": "ipython3",
   "version": "3.8.8"
  }
 },
 "nbformat": 4,
 "nbformat_minor": 5
}
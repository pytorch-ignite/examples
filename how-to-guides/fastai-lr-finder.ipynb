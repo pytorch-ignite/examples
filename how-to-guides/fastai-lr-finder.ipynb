{
 "cells": [
  {
   "cell_type": "markdown",
   "source": [
    "# How To use FastAI LRFinder with Ignite"
   ],
   "metadata": {
    "id": "5w-QlZE9mvdY"
   }
  },
  {
   "cell_type": "markdown",
   "source": [
    "This example demonstrates the usage of `FastaiLRFinder` with a 3-conv. layer network on the MNIST dataset.\n",
    "\n",
    "## Required Dependencies\n",
    "\n",
    "We assume that `torch` and `ignite` are already installed. We can install it using pip:"
   ],
   "metadata": {}
  },
  {
   "cell_type": "markdown",
   "source": [
    "## Basic Setup\n",
    "\n",
    "For this example we'll be using MNIST for our dataset, a ResNet18 model and other hyperparameters as used in the [Getting Started Notebook]()."
   ],
   "metadata": {
    "id": "L_wmAdFgmvdx"
   }
  },
  {
   "cell_type": "code",
   "execution_count": null,
   "source": [
    "import torch\n",
    "import torch.nn as nn\n",
    "import torch.optim as optim\n",
    "import torchvision.transforms as transforms\n",
    "from torch.utils.data import DataLoader\n",
    "from torchvision.datasets import MNIST\n",
    "\n",
    "from ignite.engine import create_supervised_trainer, create_supervised_evaluator\n",
    "from ignite.metrics import Loss, Accuracy\n",
    "from ignite.handlers import FastaiLRFinder"
   ],
   "outputs": [],
   "metadata": {
    "id": "lMphyBmmmvdw",
    "pycharm": {
     "is_executing": false
    }
   }
  },
  {
   "cell_type": "code",
   "execution_count": null,
   "source": [
    "device = torch.device(\"cuda\" if torch.cuda.is_available() else \"cpu\")\n",
    "\n",
    "transform = transforms.Compose([transforms.ToTensor(), transforms.Normalize((0.1307,), (0.3081,))])\n",
    "\n",
    "trainset = MNIST(mnist_pwd, train=True, download=True, transform=transform)\n",
    "trainloader = DataLoader(trainset, batch_size=batch_size, shuffle=True, num_workers=4)\n",
    "\n",
    "testset = MNIST(mnist_pwd, train=False, download=True, transform=transform)\n",
    "testloader = DataLoader(testset, batch_size=batch_size * 2, shuffle=False, num_workers=0)\n",
    "\n",
    "\n",
    "class Net(nn.Module):\n",
    "\n",
    "    def __init__(self):\n",
    "        super(Net, self).__init__()\n",
    "        \n",
    "        # Changed the output layer to output 10 classes instead of 1000 classes\n",
    "        self.model = resnet18(num_classes=10)\n",
    "\n",
    "        # Changed the input layer to take grayscale images for MNIST instaed of RGB images\n",
    "        self.model.conv1 = nn.Conv2d(1, 64, kernel_size=(3, 3), stride=(2, 2), padding=(3, 3), bias=False)\n",
    "\n",
    "    def forward(self, x):\n",
    "        return self.model(x)\n",
    "\n",
    "\n",
    "model = Net().to(device)\n",
    "optimizer = torch.optim.RMSprop(model.parameters(), lr=0.005)\n",
    "criterion = nn.CrossEntropyLoss()"
   ],
   "outputs": [],
   "metadata": {
    "id": "eZeKOgKymvdx"
   }
  },
  {
   "cell_type": "markdown",
   "source": [
    "## Training loss (fastai)\n",
    "\n",
    "This learning rate test range follows the same procedure used by fastai. The model is trained for `num_iter` iterations while the learning rate is increased from its initial value specified by the optimizer algorithm to `end_lr`. The increase can be linear (`step_mode=\"linear\"`) or exponential (`step_mode=\"exp\"`); linear provides good results for small ranges while exponential is recommended for larger ranges."
   ],
   "metadata": {
    "id": "U_EHmN2bmvd2"
   }
  },
  {
   "cell_type": "code",
   "execution_count": null,
   "source": [
    "# save the initial state for the model and the optimizer\n",
    "# to reset them later\n",
    "init_model_state = model.state_dict()\n",
    "init_opt_state = optimizer.state_dict()"
   ],
   "outputs": [],
   "metadata": {
    "id": "WxaXjwDhmvd2"
   }
  },
  {
   "cell_type": "code",
   "execution_count": null,
   "source": [
    "trainer = create_supervised_trainer(model, optimizer, criterion, device=device)\n",
    "\n",
    "lr_finder = FastaiLRFinder()\n",
    "to_save={'model': model, 'optimizer': optimizer}\n",
    "with lr_finder.attach(trainer, to_save, diverge_th=1.5) as trainer_with_lr_finder:\n",
    "    trainer_with_lr_finder.run(trainloader)"
   ],
   "outputs": [],
   "metadata": {
    "id": "CTGJPVI6mvd2"
   }
  },
  {
   "cell_type": "markdown",
   "source": [
    "Let's plot the found optimal learning rate."
   ],
   "metadata": {}
  },
  {
   "cell_type": "code",
   "execution_count": null,
   "source": [
    "%matplotlib inline\n",
    "\n",
    "from matplotlib import pyplot as plt\n",
    "ax = lr_finder.plot()\n",
    "plt.show()\n",
    "\n",
    "print(\"Suggested LR\", lr_finder.lr_suggestion())"
   ],
   "outputs": [],
   "metadata": {
    "id": "oN0VkPapmvd5"
   }
  },
  {
   "cell_type": "markdown",
   "source": [
    "*Note, that model and optimizer were restored to their initial states when `FastaiLRFinder` finished.*"
   ],
   "metadata": {}
  },
  {
   "cell_type": "markdown",
   "source": [
    "Let's compare training results: \n",
    "- a) using a fixed learning rate (`lr=3e-4`)\n",
    "- b) with applying optimal learning rate."
   ],
   "metadata": {
    "id": "EHHNoOi8mvd6"
   }
  },
  {
   "cell_type": "code",
   "execution_count": null,
   "source": [
    "# with lr=3e-4\n",
    "trainer.run(trainloader, max_epochs=5)\n",
    "\n",
    "evaluator = create_supervised_evaluator(model, metrics={\"acc\": Accuracy(), \"loss\": Loss(nn.NLLLoss())}, device=device)\n",
    "evaluator.run(testloader)\n",
    "\n",
    "print(evaluator.state.metrics)"
   ],
   "outputs": [],
   "metadata": {}
  },
  {
   "cell_type": "markdown",
   "source": [
    "After training we need to get the model and the optimizer back to their initial state, to do that, we will load the initial state again."
   ],
   "metadata": {}
  },
  {
   "cell_type": "code",
   "execution_count": null,
   "source": [
    "# Reinit model / optimizer\n",
    "model.load_state_dict(init_model_state)\n",
    "optimizer.load_state_dict(init_opt_state)"
   ],
   "outputs": [],
   "metadata": {}
  },
  {
   "cell_type": "markdown",
   "source": [
    "Let's now apply suggested learning rate to the optimizer, and train the model again with optimal learning rate."
   ],
   "metadata": {
    "id": "NcT19wqkmvd6"
   }
  },
  {
   "cell_type": "code",
   "execution_count": null,
   "source": [
    "lr_finder.apply_suggested_lr(optimizer)\n",
    "print(optimizer.param_groups[0]['lr'])"
   ],
   "outputs": [],
   "metadata": {}
  },
  {
   "cell_type": "code",
   "execution_count": null,
   "source": [
    "trainer.run(trainloader, max_epochs=5)\n",
    "\n",
    "evaluator.run(testloader)\n",
    "print(evaluator.state.metrics)"
   ],
   "outputs": [],
   "metadata": {
    "id": "DJqgyaFnmvd7"
   }
  }
 ],
 "metadata": {
  "accelerator": "GPU",
  "colab": {
   "name": "FastaiLRFinder_MNIST.ipynb",
   "provenance": []
  },
  "kernelspec": {
   "display_name": "Python 3",
   "language": "python",
   "name": "python3"
  },
  "language_info": {
   "codemirror_mode": {
    "name": "ipython",
    "version": 3
   },
   "file_extension": ".py",
   "mimetype": "text/x-python",
   "name": "python",
   "nbconvert_exporter": "python",
   "pygments_lexer": "ipython3",
   "version": "3.8.3"
  },
  "pycharm": {
   "stem_cell": {
    "cell_type": "raw",
    "metadata": {
     "collapsed": false
    },
    "source": []
   }
  }
 },
 "nbformat": 4,
 "nbformat_minor": 1
}
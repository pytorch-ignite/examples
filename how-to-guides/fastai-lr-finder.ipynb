{
 "cells": [
  {
   "cell_type": "markdown",
   "source": [
    "<!-----\n",
    "title: How To use FastAILRFinder with Ignite\n",
    "downloads: true\n",
    "sidebar: true\n",
    "tags:\n",
    "  - lr finder\n",
    "  - fastai lr finder\n",
    "--- \n",
    "-->\n",
    "\n",
    "This how-to guide demonstrates how we can leverage the [`FastaiLRFinder`](https://pytorch.org/ignite/generated/ignite.handlers.lr_finder.FastaiLRFinder.html) handler to find an optimal learning rate to train our model on. We will compare the results produced with and without using the handler for better understanding.\n",
    "\n",
    "<!--more-->"
   ],
   "metadata": {
    "id": "5w-QlZE9mvdY"
   }
  },
  {
   "cell_type": "markdown",
   "source": [
    "In this example, we will be using a [ResNet18](https://pytorch.org/vision/stable/models.html#torchvision.models.resnet18) model on the [MNIST](https://pytorch.org/vision/stable/datasets.html#torchvision.datasets.MNIST) dataset. The base code is the same as used in the [Getting Started Guide](https://pytorch-ignite.ai/getting-started)."
   ],
   "metadata": {
    "id": "3Pq6c9nuRDXE"
   }
  },
  {
   "cell_type": "markdown",
   "source": [
    "## Basic Setup"
   ],
   "metadata": {
    "id": "L_wmAdFgmvdx"
   }
  },
  {
   "cell_type": "code",
   "execution_count": 1,
   "source": [
    "import torch\n",
    "import torch.nn as nn\n",
    "from torch.utils.data import DataLoader\n",
    "from torchvision.datasets import MNIST\n",
    "from torchvision.models import resnet18\n",
    "from torchvision.transforms import Compose, Normalize, ToTensor\n",
    "\n",
    "from ignite.engine import create_supervised_trainer, create_supervised_evaluator\n",
    "from ignite.metrics import Accuracy, Loss\n",
    "from ignite.handlers import FastaiLRFinder"
   ],
   "outputs": [],
   "metadata": {
    "id": "lMphyBmmmvdw",
    "pycharm": {
     "is_executing": false
    }
   }
  },
  {
   "cell_type": "code",
   "execution_count": 22,
   "source": [
    "device = torch.device(\"cuda\" if torch.cuda.is_available() else \"cpu\")\n",
    "\n",
    "\n",
    "class Net(nn.Module):\n",
    "    def __init__(self):\n",
    "        super(Net, self).__init__()\n",
    "\n",
    "        self.model = resnet18(num_classes=10)\n",
    "        self.model.conv1 = nn.Conv2d(\n",
    "            1, 64, kernel_size=(3, 3), stride=(2, 2), padding=(3, 3), bias=False\n",
    "        )\n",
    "\n",
    "    def forward(self, x):\n",
    "        return self.model(x)\n",
    "\n",
    "\n",
    "model = Net().to(device)\n",
    "\n",
    "data_transform = Compose([ToTensor(), Normalize((0.1307,), (0.3081,))])\n",
    "\n",
    "train_loader = DataLoader(\n",
    "    MNIST(download=True, root=\".\", transform=data_transform, train=True),\n",
    "    batch_size=128,\n",
    "    shuffle=True,\n",
    ")\n",
    "\n",
    "test_loader = DataLoader(\n",
    "    MNIST(download=True, root=\".\", transform=data_transform, train=False),\n",
    "    batch_size=256,\n",
    "    shuffle=False,\n",
    ")\n",
    "\n",
    "\n",
    "model = Net().to(device)\n",
    "optimizer = torch.optim.RMSprop(model.parameters(), lr=1e-06)\n",
    "criterion = nn.CrossEntropyLoss()"
   ],
   "outputs": [],
   "metadata": {
    "id": "eZeKOgKymvdx"
   }
  },
  {
   "cell_type": "markdown",
   "source": [
    "We will first train the model with a fixed learning rate (lr) of 1e-06 and inspect our results. Let's save the initial state of the model and the optimizer to restore them later for comparision."
   ],
   "metadata": {
    "id": "b04erc67G8IK"
   }
  },
  {
   "cell_type": "code",
   "execution_count": 23,
   "source": [
    "init_model_state = model.state_dict()\n",
    "init_opt_state = optimizer.state_dict()"
   ],
   "outputs": [],
   "metadata": {
    "id": "HglaeKrqFlkY"
   }
  },
  {
   "cell_type": "code",
   "execution_count": 24,
   "source": [
    "trainer = create_supervised_trainer(model, optimizer, criterion, device=device)\n",
    "\n",
    "trainer.run(train_loader, max_epochs=3)"
   ],
   "outputs": [
    {
     "output_type": "execute_result",
     "data": {
      "text/plain": [
       "State:\n",
       "\titeration: 1407\n",
       "\tepoch: 3\n",
       "\tepoch_length: 469\n",
       "\tmax_epochs: 3\n",
       "\toutput: 0.5554001927375793\n",
       "\tbatch: <class 'list'>\n",
       "\tmetrics: <class 'dict'>\n",
       "\tdataloader: <class 'torch.utils.data.dataloader.DataLoader'>\n",
       "\tseed: <class 'NoneType'>\n",
       "\ttimes: <class 'dict'>"
      ]
     },
     "metadata": {
      "tags": []
     },
     "execution_count": 24
    }
   ],
   "metadata": {
    "colab": {
     "base_uri": "https://localhost:8080/"
    },
    "id": "dKihuuH4A-sH",
    "outputId": "699eebb6-7446-40cd-9b91-ebdaea07eaeb"
   }
  },
  {
   "cell_type": "code",
   "execution_count": 25,
   "source": [
    "evaluator = create_supervised_evaluator(\n",
    "    model, metrics={\"Accuracy\": Accuracy(), \"Loss\": Loss(criterion)}, device=device\n",
    ")\n",
    "evaluator.run(test_loader)\n",
    "\n",
    "print(evaluator.state.metrics)"
   ],
   "outputs": [
    {
     "output_type": "stream",
     "name": "stdout",
     "text": [
      "{'Accuracy': 0.8655, 'Loss': 0.602867822265625}\n"
     ]
    }
   ],
   "metadata": {
    "colab": {
     "base_uri": "https://localhost:8080/"
    },
    "id": "mophHZUkICKI",
    "outputId": "378c7aac-b3c8-49ff-8be1-acc547730c12"
   }
  },
  {
   "cell_type": "markdown",
   "source": [
    "Let's see how we can achieve better results by using the `FastAILRFinder` handler. But first, let's restore the initial state of the model and optimizer so we can re-train them from scratch. "
   ],
   "metadata": {
    "id": "U_EHmN2bmvd2"
   }
  },
  {
   "cell_type": "code",
   "execution_count": 26,
   "source": [
    "model.load_state_dict(init_model_state)\n",
    "optimizer.load_state_dict(init_opt_state)"
   ],
   "outputs": [],
   "metadata": {
    "id": "CTGJPVI6mvd2"
   }
  },
  {
   "cell_type": "markdown",
   "source": [
    "When attached to the `trainer`, this handler follows the same procedure used by [fastai](https://docs.fast.ai/callback.schedule.html#LRFinder). The model is trained for `num_iter` iterations while the learning rate is increased from `start_lr` (defaults to initial value specified by the optimizer, here 1e-06) to the upper bound called `end_lr`. This increase can be linear (`step_mode=\"linear\"`) or exponential (`step_mode=\"exp\"`). The default `step_mode` is exponential which is recommended for larger learning rate ranges while linear provides good results for small ranges."
   ],
   "metadata": {
    "id": "fLaAAE05GIFh"
   }
  },
  {
   "cell_type": "code",
   "execution_count": 27,
   "source": [
    "lr_finder = FastaiLRFinder()\n",
    "\n",
    "# To restore the model's and optimizer's states after running the LR Finder\n",
    "to_save = {\"model\": model, \"optimizer\": optimizer}\n",
    "\n",
    "with lr_finder.attach(trainer, to_save, end_lr=1e-02) as trainer_with_lr_finder:\n",
    "    trainer_with_lr_finder.run(train_loader)"
   ],
   "outputs": [],
   "metadata": {
    "id": "qEA0T0af3iU1"
   }
  },
  {
   "cell_type": "markdown",
   "source": [
    "Let's plot how the learning rate changes within our specified range and print the suggested learning rate."
   ],
   "metadata": {
    "id": "lzhRX59cRDXO"
   }
  },
  {
   "cell_type": "code",
   "execution_count": 28,
   "source": [
    "lr_finder.plot()\n",
    "\n",
    "print(\"Suggested LR\", lr_finder.lr_suggestion())"
   ],
   "outputs": [
    {
     "output_type": "display_data",
     "data": {
      "text/plain": [
       "<Figure size 432x288 with 1 Axes>"
      ],
      "image/png": "[encoded data removed]"
     },
     "metadata": {
      "needs_background": "light",
      "tags": []
     }
    },
    {
     "output_type": "stream",
     "name": "stdout",
     "text": [
      "Suggested LR 1.0148376909312998e-05\n"
     ]
    }
   ],
   "metadata": {
    "colab": {
     "base_uri": "https://localhost:8080/",
     "height": 300
    },
    "id": "oN0VkPapmvd5",
    "outputId": "b2f3fc64-046e-43a4-cd7a-e604003b8c6f"
   }
  },
  {
   "cell_type": "markdown",
   "source": [
    "Now we will apply the suggested learning rate to the optimizer, and train the model again with optimal learning rate."
   ],
   "metadata": {
    "id": "NcT19wqkmvd6"
   }
  },
  {
   "cell_type": "code",
   "execution_count": 29,
   "source": [
    "lr_finder.apply_suggested_lr(optimizer)\n",
    "print(optimizer.param_groups[0][\"lr\"])"
   ],
   "outputs": [
    {
     "output_type": "stream",
     "name": "stdout",
     "text": [
      "1.0148376909312998e-05\n"
     ]
    }
   ],
   "metadata": {
    "colab": {
     "base_uri": "https://localhost:8080/"
    },
    "id": "GtEYvL92RDXU",
    "outputId": "fdc40ae4-8c0e-473f-8ae5-1d44d4cb8f9f"
   }
  },
  {
   "cell_type": "code",
   "execution_count": 30,
   "source": [
    "trainer.run(train_loader, max_epochs=3)"
   ],
   "outputs": [
    {
     "output_type": "execute_result",
     "data": {
      "text/plain": [
       "State:\n",
       "\titeration: 1407\n",
       "\tepoch: 3\n",
       "\tepoch_length: 469\n",
       "\tmax_epochs: 3\n",
       "\toutput: 0.09644963592290878\n",
       "\tbatch: <class 'list'>\n",
       "\tmetrics: <class 'dict'>\n",
       "\tdataloader: <class 'torch.utils.data.dataloader.DataLoader'>\n",
       "\tseed: <class 'NoneType'>\n",
       "\ttimes: <class 'dict'>"
      ]
     },
     "metadata": {
      "tags": []
     },
     "execution_count": 30
    }
   ],
   "metadata": {
    "colab": {
     "base_uri": "https://localhost:8080/"
    },
    "id": "DJqgyaFnmvd7",
    "outputId": "bb1f62d5-c72e-45a7-b547-5a44b05f9efe"
   }
  },
  {
   "cell_type": "code",
   "execution_count": 31,
   "source": [
    "# Calculate the new metrics after using the optimal lr\n",
    "evaluator.run(test_loader)\n",
    "print(evaluator.state.metrics)"
   ],
   "outputs": [
    {
     "output_type": "stream",
     "name": "stdout",
     "text": [
      "{'Accuracy': 0.9715, 'Loss': 0.0908882568359375}\n"
     ]
    }
   ],
   "metadata": {
    "colab": {
     "base_uri": "https://localhost:8080/"
    },
    "id": "MU8E7PpleaNm",
    "outputId": "e308fcaa-92af-462b-9148-e64ec1532a34"
   }
  },
  {
   "cell_type": "markdown",
   "source": [
    "As we saw the accuracy increased and loss decreased on the test dataset when we trained our model for the same number of epochs with an optimal learning rate."
   ],
   "metadata": {
    "id": "ejVpTNh3MJc2"
   }
  }
 ],
 "metadata": {
  "accelerator": "GPU",
  "colab": {
   "name": "fastai-lr-finder.ipynb",
   "provenance": []
  },
  "kernelspec": {
   "display_name": "Python 3 (ipykernel)",
   "language": "python",
   "name": "python3"
  },
  "language_info": {
   "codemirror_mode": {
    "name": "ipython",
    "version": 3
   },
   "file_extension": ".py",
   "mimetype": "text/x-python",
   "name": "python",
   "nbconvert_exporter": "python",
   "pygments_lexer": "ipython3",
   "version": "3.8.10"
  },
  "pycharm": {
   "stem_cell": {
    "cell_type": "raw",
    "metadata": {
     "collapsed": false
    },
    "source": []
   }
  }
 },
 "nbformat": 4,
 "nbformat_minor": 4
}
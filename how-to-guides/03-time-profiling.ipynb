{
  "nbformat": 4,
  "nbformat_minor": 2,
  "metadata": {
    "kernelspec": {
      "display_name": "Python 3",
      "language": "python",
      "name": "python3"
    },
    "language_info": {
      "codemirror_mode": {
        "name": "ipython",
        "version": 3
      },
      "file_extension": ".py",
      "mimetype": "text/x-python",
      "name": "python",
      "nbconvert_exporter": "python",
      "pygments_lexer": "ipython3",
      "version": "3.7.9"
    },
    "colab": {
      "name": "time-profiling.ipynb",
      "provenance": [],
      "collapsed_sections": []
    },
    "accelerator": "GPU"
  },
  "cells": [
    {
      "cell_type": "markdown",
      "source": [
        "<!-- ---\n",
        "title: How to do time profiling\n",
        "weight: 3\n",
        "downloads: true\n",
        "sidebar: true\n",
        "summary: Learn how to get the time breakdown for individual epochs during training, individual events, all handlers corresponding to an event, individual handlers, data loading and data processing using Engine's State, BasicTimeProfiler and HandlersTimeProfiler.\n",
        "tags:\n",
        "  - time-profiling\n",
        "  - engine.state.times\n",
        "  - BasicTimeProfiler\n",
        "  - HandlersTimeProfiler\n",
        "--- -->\n",
        "# How to do time profiling"
      ],
      "metadata": {
        "id": "_1FzCFk3a1S3"
      }
    },
    {
      "cell_type": "markdown",
      "source": [
        "This example demonstrates how you can get the time breakdown for:\n",
        "- Individual epochs during training\n",
        "- Total training time\n",
        "- Individual [`Events`](https://pytorch.org/ignite/concepts.html#events-and-handlers)\n",
        "- All [`Handlers`](https://pytorch.org/ignite/concepts.html#handlers) correspoding to an `Event`\n",
        "- Individual `Handlers`\n",
        "- Data loading and Data processing.\n",
        "\n",
        "In this example, we will be using a ResNet18 model on the MNIST dataset. The base code is the same as used in the [Getting Started Guide](https://pytorch-ignite.ai/tutorials/getting-started/)."
      ],
      "metadata": {
        "id": "2J7z60CkssXg"
      }
    },
    {
      "cell_type": "markdown",
      "source": [
        "## Basic Setup"
      ],
      "metadata": {
        "id": "THcUNAgpWMDF"
      }
    },
    {
      "cell_type": "code",
      "execution_count": 2,
      "source": [
        "import pandas as pd\n",
        "\n",
        "import torch\n",
        "from torch import nn\n",
        "from torch.utils.data import DataLoader\n",
        "from torchvision.datasets import MNIST\n",
        "from torchvision.models import resnet18\n",
        "from torchvision.transforms import Compose, Normalize, ToTensor\n",
        "\n",
        "from ignite.engine import Events, create_supervised_trainer, create_supervised_evaluator\n",
        "from ignite.metrics import Accuracy, Loss\n",
        "from ignite.handlers import Timer, BasicTimeProfiler, HandlersTimeProfiler",
      ],
      "outputs": [],
      "metadata": {
        "pycharm": {
          "is_executing": false
        },
        "id": "Y0sJP9iFa1TB"
      }
    },
    {
      "cell_type": "code",
      "execution_count": null,
      "source": [
        "device = torch.device(\"cuda\" if torch.cuda.is_available() else \"cpu\")\n",
        "\n",
        "\n",
        "class Net(nn.Module):\n",
        "    def __init__(self):\n",
        "        super(Net, self).__init__()\n",
        "\n",
        "        self.model = resnet18(num_classes=10)\n",
        "        self.model.conv1 = nn.Conv2d(1, 64, kernel_size=3, padding=1, bias=False)\n",
        "\n",
        "    def forward(self, x):\n",
        "        return self.model(x)\n",
        "\n",
        "\n",
        "model = Net().to(device)\n",
        "\n",
        "data_transform = Compose([ToTensor(), Normalize((0.1307,), (0.3081,))])\n",
        "\n",
        "train_loader = DataLoader(\n",
        "    MNIST(download=True, root=\".\", transform=data_transform, train=True),\n",
        "    batch_size=128,\n",
        "    shuffle=True,\n",
        ")\n",
        "\n",
        "val_loader = DataLoader(\n",
        "    MNIST(download=True, root=\".\", transform=data_transform, train=False),\n",
        "    batch_size=256,\n",
        "    shuffle=False,\n",
        ")\n",
        "\n",
        "optimizer = torch.optim.RMSprop(model.parameters(), lr=0.005)\n",
        "criterion = nn.CrossEntropyLoss()"
      ],
      "outputs": [],
      "metadata": {
        "id": "iK_9cOP6a1TI"
      }
    },
    {
      "cell_type": "markdown",
      "source": [
        "We attach two handlers to the `trainer` to print out the metrics ([`Accuracy`](https://pytorch.org/ignite/generated/ignite.metrics.Accuracy.html#accuracy) and [`Loss`](https://pytorch.org/ignite/generated/ignite.metrics.Loss.html#loss)) of the train and validation dataset at the end of every epoch."
      ],
      "metadata": {
        "id": "WUHh-vc73eut"
      }
    },
    {
      "cell_type": "code",
      "execution_count": 4,
      "source": [
        "trainer = create_supervised_trainer(model, optimizer, criterion, device=device)\n",
        "evaluator = create_supervised_evaluator(\n",
        "    model, metrics={\"accuracy\": Accuracy(), \"loss\": Loss(criterion)}, device=device\n",
        ")\n",
        "\n",
        "\n",
        "@trainer.on(Events.EPOCH_COMPLETED)\n",
        "def log_training_results(trainer):\n",
        "    evaluator.run(train_loader)\n",
        "    metrics = evaluator.state.metrics\n",
        "    print(\n",
        "        f\"Training Results - Epoch[{trainer.state.epoch}] Avg accuracy: {metrics['accuracy']:.2f} Avg loss: {metrics['loss']:.2f}\"\n",
        "    )\n",
        "\n",
        "\n",
        "@trainer.on(Events.EPOCH_COMPLETED)\n",
        "def log_validation_results(trainer):\n",
        "    evaluator.run(val_loader)\n",
        "    metrics = evaluator.state.metrics\n",
        "    print(\n",
        "        f\"Validation Results - Epoch[{trainer.state.epoch}] Avg accuracy: {metrics['accuracy']:.2f} Avg loss: {metrics['loss']:.2f}\"\n",
        "    )"
      ],
      "outputs": [],
      "metadata": {
        "id": "ItoswUK-23St"
      }
    },
    {
      "cell_type": "markdown",
      "source": [
        "## Using `State` of Events\n",
        "\n",
        "If we just want to print the time taken for every epoch and the total time for training we can simply use the `trainer`'s [`State`](https://pytorch.org/ignite/generated/ignite.engine.events.State.html#ignite.engine.events.State). We attach two separate handlers fired when an epoch is completed and when the training is completed to log the time returned by `trainer.state.times`."
      ],
      "metadata": {
        "id": "kTD4UFuZWUSe"
      }
    },
    {
      "cell_type": "code",
      "execution_count": 5,
      "source": [
        "@trainer.on(Events.EPOCH_COMPLETED)\n",
        "def log_epoch_time():\n",
        "    print(\n",
        "        f\"Epoch {trainer.state.epoch}, Time Taken : {trainer.state.times['EPOCH_COMPLETED']}\"\n",
        "    )\n",
        "\n",
        "\n",
        "@trainer.on(Events.COMPLETED)\n",
        "def log_total_time():\n",
        "    print(f\"Total Time: {trainer.state.times['COMPLETED']}\")"
      ],
      "outputs": [],
      "metadata": {
        "id": "2m1pOALZ3vCO"
      }
    },
    {
      "cell_type": "code",
      "execution_count": 6,
      "source": [
        "trainer.run(train_loader, max_epochs=2)"
      ],
      "outputs": [
        {
          "output_type": "stream",
          "name": "stdout",
          "text": [
            "Training Results - Epoch[1] Avg accuracy: 0.89 Avg loss: 0.31\n",
            "Validation Results - Epoch[1] Avg accuracy: 0.89 Avg loss: 0.31\n",
            "Epoch 1, Time Taken : 31.877371549606323\n",
            "Training Results - Epoch[2] Avg accuracy: 0.97 Avg loss: 0.09\n",
            "Validation Results - Epoch[2] Avg accuracy: 0.98 Avg loss: 0.09\n",
            "Epoch 2, Time Taken : 31.752297401428223\n",
            "Total Time: 94.78037142753601\n"
          ]
        },
        {
          "output_type": "execute_result",
          "data": {
            "text/plain": [
              "State:\n",
              "\titeration: 938\n",
              "\tepoch: 2\n",
              "\tepoch_length: 469\n",
              "\tmax_epochs: 2\n",
              "\toutput: 0.09705401211977005\n",
              "\tbatch: <class 'list'>\n",
              "\tmetrics: <class 'dict'>\n",
              "\tdataloader: <class 'torch.utils.data.dataloader.DataLoader'>\n",
              "\tseed: <class 'NoneType'>\n",
              "\ttimes: <class 'dict'>"
            ]
          },
          "metadata": {
            "tags": []
          },
          "execution_count": 6
        }
      ],
      "metadata": {
        "colab": {
          "base_uri": "https://localhost:8080/"
        },
        "id": "hmdHZIDIABc9",
        "outputId": "6b4cbdb9-870f-44b4-d8ff-70be57a5c847"
      }
    },
    {
      "cell_type": "markdown",
      "source": [
        "## Event-based profiling using `BasicTimeProfiler`\n",
        "\n",
        "If we want more information such as the time taken by data processing, data loading and all pre-defined events, we can use [`BasicTimeProfiler()`](https://pytorch.org/ignite/generated/ignite.handlers.time_profilers.BasicTimeProfiler.html#basictimeprofiler)."
      ],
      "metadata": {
        "id": "IlT7TUokNIQ7"
      }
    },
    {
      "cell_type": "code",
      "execution_count": 7,
      "source": [
        "# Attach basic profiler\n",
        "basic_profiler = BasicTimeProfiler()\n",
        "basic_profiler.attach(trainer)\n",
        "\n",
        "trainer.run(train_loader, max_epochs=2)"
      ],
      "outputs": [
        {
          "output_type": "stream",
          "name": "stdout",
          "text": [
            "Training Results - Epoch[1] Avg accuracy: 0.99 Avg loss: 0.05\n",
            "Validation Results - Epoch[1] Avg accuracy: 0.99 Avg loss: 0.05\n",
            "Epoch 1, Time Taken : 32.675241470336914\n",
            "Training Results - Epoch[2] Avg accuracy: 0.95 Avg loss: 0.17\n",
            "Validation Results - Epoch[2] Avg accuracy: 0.94 Avg loss: 0.21\n",
            "Epoch 2, Time Taken : 32.5580837726593\n",
            "Total Time: 94.03342008590698\n"
          ]
        },
        {
          "output_type": "execute_result",
          "data": {
            "text/plain": [
              "State:\n",
              "\titeration: 938\n",
              "\tepoch: 2\n",
              "\tepoch_length: 469\n",
              "\tmax_epochs: 2\n",
              "\toutput: 0.044832438230514526\n",
              "\tbatch: <class 'list'>\n",
              "\tmetrics: <class 'dict'>\n",
              "\tdataloader: <class 'torch.utils.data.dataloader.DataLoader'>\n",
              "\tseed: <class 'NoneType'>\n",
              "\ttimes: <class 'dict'>"
            ]
          },
          "metadata": {
            "tags": []
          },
          "execution_count": 7
        }
      ],
      "metadata": {
        "id": "dU37erdra1TK",
        "colab": {
          "base_uri": "https://localhost:8080/"
        },
        "outputId": "296cf759-0c9d-45f2-c2cf-6911b464b21f"
      }
    },
    {
      "cell_type": "markdown",
      "source": [
        "We can then obtain the results dictionary via [`get_results()`](https://pytorch.org/ignite/generated/ignite.handlers.time_profilers.BasicTimeProfiler.html#ignite.handlers.time_profilers.BasicTimeProfiler.get_results) and pass it to [`print_results()`](https://pytorch.org/ignite/generated/ignite.handlers.time_profilers.BasicTimeProfiler.html#ignite.handlers.time_profilers.BasicTimeProfiler.print_results) to get a nicely formatted output which contains total, minimum, maximum, mean and the standard deviation of the time taken."
      ],
      "metadata": {
        "id": "1zGDVT4ACJSN"
      }
    },
    {
      "cell_type": "code",
      "execution_count": 8,
      "source": [
        "results = basic_profiler.get_results()\n",
        "basic_profiler.print_results(results);"
      ],
      "outputs": [
        {
          "output_type": "stream",
          "name": "stdout",
          "text": [
            "\n",
            " ----------------------------------------------------\n",
            "| Time profiling stats (in seconds):                 |\n",
            " ----------------------------------------------------\n",
            "total  |  min/index  |  max/index  |  mean  |  std\n",
            "\n",
            "Processing function:\n",
            "49.06667 | 0.04429/468 | 0.05650/1 | 0.05231 | 0.00115\n",
            "\n",
            "Dataflow:\n",
            "16.07644 | 0.01181/467 | 0.03356/893 | 0.01714 | 0.00202\n",
            "\n",
            "Event handlers:\n",
            "28.81195\n",
            "\n",
            "- Events.STARTED: []\n",
            "0.00001\n",
            "\n",
            "- Events.EPOCH_STARTED: []\n",
            "0.00001 | 0.00000/1 | 0.00000/0 | 0.00000 | 0.00000\n",
            "\n",
            "- Events.ITERATION_STARTED: []\n",
            "0.00204 | 0.00000/815 | 0.00003/587 | 0.00000 | 0.00000\n",
            "\n",
            "- Events.ITERATION_COMPLETED: []\n",
            "0.00338 | 0.00000/524 | 0.00002/869 | 0.00000 | 0.00000\n",
            "\n",
            "- Events.EPOCH_COMPLETED: ['log_training_results', 'log_validation_results', 'log_epoch_time']\n",
            "28.79943 | 14.38091/1 | 14.41852/0 | 14.39971 | 0.02660\n",
            "\n",
            "- Events.COMPLETED: ['log_total_time']\n",
            "0.00010\n",
            "\n"
          ]
        }
      ],
      "metadata": {
        "colab": {
          "base_uri": "https://localhost:8080/"
        },
        "id": "dPxd8R82BfKZ",
        "outputId": "2540f3ff-3986-42d7-c940-7fcd46ef6d13"
      }
    },
    {
      "cell_type": "markdown",
      "source": [
        "**Note**: This approach does not get the time taken by an individual handler rather the sum of the time taken by all handlers corresponding to a pre-defined event."
      ],
      "metadata": {
        "id": "YFzTSk-EChQd"
      }
    },
    {
      "cell_type": "markdown",
      "source": [
        "## Handler-based profiling using `HandlersTimeProfiler`\n",
        "\n",
        "We can overcome the above problem by using [`HandlersTimeProfiler`](https://pytorch.org/ignite/generated/ignite.handlers.time_profilers.HandlersTimeProfiler.html#handlerstimeprofiler) which gives us only the necessary information. We can also calculate the time taken by handlers attached to [`Custom Events`](https://pytorch.org/ignite/concepts.html#custom-events), which was not previously possible, via this."
      ],
      "metadata": {
        "id": "orRhb-Z1N8vq"
      }
    },
    {
      "cell_type": "code",
      "execution_count": 9,
      "source": [
        "# Attach handlers profiler\n",
        "handlers_profiler = HandlersTimeProfiler()\n",
        "handlers_profiler.attach(trainer)"
      ],
      "outputs": [],
      "metadata": {
        "id": "zdWobxOs_nuO"
      }
    },
    {
      "cell_type": "code",
      "execution_count": 10,
      "source": [
        "trainer.run(train_loader, max_epochs=2)"
      ],
      "outputs": [
        {
          "output_type": "stream",
          "name": "stdout",
          "text": [
            "Training Results - Epoch[1] Avg accuracy: 0.99 Avg loss: 0.03\n",
            "Validation Results - Epoch[1] Avg accuracy: 0.99 Avg loss: 0.03\n",
            "Epoch 1, Time Taken : 32.35053300857544\n",
            "Training Results - Epoch[2] Avg accuracy: 1.00 Avg loss: 0.01\n",
            "Validation Results - Epoch[2] Avg accuracy: 0.99 Avg loss: 0.02\n",
            "Epoch 2, Time Taken : 32.69846534729004\n",
            "Total Time: 95.0562059879303\n"
          ]
        },
        {
          "output_type": "execute_result",
          "data": {
            "text/plain": [
              "State:\n",
              "\titeration: 938\n",
              "\tepoch: 2\n",
              "\tepoch_length: 469\n",
              "\tmax_epochs: 2\n",
              "\toutput: 0.039033230394124985\n",
              "\tbatch: <class 'list'>\n",
              "\tmetrics: <class 'dict'>\n",
              "\tdataloader: <class 'torch.utils.data.dataloader.DataLoader'>\n",
              "\tseed: <class 'NoneType'>\n",
              "\ttimes: <class 'dict'>"
            ]
          },
          "metadata": {
            "tags": []
          },
          "execution_count": 10
        }
      ],
      "metadata": {
        "colab": {
          "base_uri": "https://localhost:8080/"
        },
        "id": "ZJd487jMBqw2",
        "outputId": "3b6c2813-1847-4d0a-f7c1-87ef8e9df544"
      }
    },
    {
      "cell_type": "markdown",
      "source": [
        "We can print the results of the profiler in the same way as above. The output shows total, average and other details of execution time for each handler attached. It also shows the data processing and data loading times."
      ],
      "metadata": {
        "id": "T_AIlhvqa1TK"
      }
    },
    {
      "cell_type": "code",
      "execution_count": 11,
      "source": [
        "results = handlers_profiler.get_results()\n",
        "handlers_profiler.print_results(results)"
      ],
      "outputs": [
        {
          "output_type": "stream",
          "name": "stdout",
          "text": [
            "\n",
            "---------------------------------------  -------------------  --------------  --------------  --------------  --------------  --------------  \n",
            "Handler                                  Event Name                 Total(s)      Min(s)/IDX      Max(s)/IDX         Mean(s)          Std(s)  \n",
            "---------------------------------------  -------------------  --------------  --------------  --------------  --------------  --------------  \n",
            "log_training_results                     EPOCH_COMPLETED            25.87275      12.36704/1      13.50571/0        12.93637         0.80516  \n",
            "log_validation_results                   EPOCH_COMPLETED             4.13239       1.94068/1       2.19171/0         2.06619          0.1775  \n",
            "log_epoch_time                           EPOCH_COMPLETED               6e-05         3e-05/1         3e-05/0           3e-05             0.0  \n",
            "BasicTimeProfiler._as_first_started      STARTED                      0.0006        0.0006/0        0.0006/0          0.0006            None  \n",
            "log_total_time                           COMPLETED                     3e-05         3e-05/0         3e-05/0           3e-05            None  \n",
            "---------------------------------------  -------------------  --------------  --------------  --------------  --------------  --------------  \n",
            "Total                                                               30.00583                                                                  \n",
            "---------------------------------------  -------------------  --------------  --------------  --------------  --------------  --------------  \n",
            "Processing took total 48.99836s [min/index: 0.04277s/468, max/index: 0.05485s/186, mean: 0.05224s, std: 0.00099s]\n",
            "Dataflow took total 15.97144s [min/index: 0.01286s/937, max/index: 0.02696s/824, mean: 0.01703s, std: 0.00197s]\n",
            "\n"
          ]
        }
      ],
      "metadata": {
        "id": "S8J8iWyUa1TL",
        "colab": {
          "base_uri": "https://localhost:8080/"
        },
        "outputId": "d8ccdbe9-f207-4ac7-a090-273716dee5a4"
      }
    },
    {
      "cell_type": "markdown",
      "source": [
        "The profiling results obtained by `basic_profiler` and `handler_profiler` can be exported to a CSV file by using the `write_results()` method."
      ],
      "metadata": {
        "id": "F0yJpyC7a1TM"
      }
    },
    {
      "cell_type": "code",
      "execution_count": 12,
      "source": [
        "basic_profiler.write_results(\"./basic_profile.csv\")\n",
        "handlers_profiler.write_results(\"./handlers_profile.csv\")"
      ],
      "outputs": [],
      "metadata": {
        "id": "_6a0t-Xha1TM"
      }
    },
    {
      "cell_type": "markdown",
      "source": [
        "If we inspect the CSV file of `basic_profiler` we can see the depth of information stored for every iteration."
      ],
      "metadata": {
        "id": "-hG8hYQba1TM"
      }
    },
    {
      "cell_type": "code",
      "execution_count": 13,
      "source": [
        "basic_profile = pd.read_csv(\"./basic_profile.csv\")\n",
        "basic_profile.head()"
      ],
      "outputs": [
        {
          "output_type": "execute_result",
          "data": {
            "text/html": [
              "<div>\n",
              "<style scoped>\n",
              "    .dataframe tbody tr th:only-of-type {\n",
              "        vertical-align: middle;\n",
              "    }\n",
              "\n",
              "    .dataframe tbody tr th {\n",
              "        vertical-align: top;\n",
              "    }\n",
              "\n",
              "    .dataframe thead th {\n",
              "        text-align: right;\n",
              "    }\n",
              "</style>\n",
              "<table border=\"1\" class=\"dataframe\">\n",
              "  <thead>\n",
              "    <tr style=\"text-align: right;\">\n",
              "      <th></th>\n",
              "      <th>epoch</th>\n",
              "      <th>iteration</th>\n",
              "      <th>processing_stats</th>\n",
              "      <th>dataflow_stats</th>\n",
              "      <th>Event_STARTED</th>\n",
              "      <th>Event_COMPLETED</th>\n",
              "      <th>Event_EPOCH_STARTED</th>\n",
              "      <th>Event_EPOCH_COMPLETED</th>\n",
              "      <th>Event_ITERATION_STARTED</th>\n",
              "      <th>Event_ITERATION_COMPLETED</th>\n",
              "      <th>Event_GET_BATCH_STARTED</th>\n",
              "      <th>Event_GET_BATCH_COMPLETED</th>\n",
              "    </tr>\n",
              "  </thead>\n",
              "  <tbody>\n",
              "    <tr>\n",
              "      <th>0</th>\n",
              "      <td>1.0</td>\n",
              "      <td>1.0</td>\n",
              "      <td>0.052481</td>\n",
              "      <td>0.015301</td>\n",
              "      <td>0.000049</td>\n",
              "      <td>0.000086</td>\n",
              "      <td>0.000003</td>\n",
              "      <td>15.69749</td>\n",
              "      <td>0.000004</td>\n",
              "      <td>0.000006</td>\n",
              "      <td>0.000004</td>\n",
              "      <td>0.000008</td>\n",
              "    </tr>\n",
              "    <tr>\n",
              "      <th>1</th>\n",
              "      <td>1.0</td>\n",
              "      <td>2.0</td>\n",
              "      <td>0.053183</td>\n",
              "      <td>0.018409</td>\n",
              "      <td>0.000049</td>\n",
              "      <td>0.000086</td>\n",
              "      <td>0.000003</td>\n",
              "      <td>15.69749</td>\n",
              "      <td>0.000005</td>\n",
              "      <td>0.000011</td>\n",
              "      <td>0.000007</td>\n",
              "      <td>0.000008</td>\n",
              "    </tr>\n",
              "    <tr>\n",
              "      <th>2</th>\n",
              "      <td>1.0</td>\n",
              "      <td>3.0</td>\n",
              "      <td>0.051487</td>\n",
              "      <td>0.015797</td>\n",
              "      <td>0.000049</td>\n",
              "      <td>0.000086</td>\n",
              "      <td>0.000003</td>\n",
              "      <td>15.69749</td>\n",
              "      <td>0.000004</td>\n",
              "      <td>0.000008</td>\n",
              "      <td>0.000005</td>\n",
              "      <td>0.000008</td>\n",
              "    </tr>\n",
              "    <tr>\n",
              "      <th>3</th>\n",
              "      <td>1.0</td>\n",
              "      <td>4.0</td>\n",
              "      <td>0.052423</td>\n",
              "      <td>0.015652</td>\n",
              "      <td>0.000049</td>\n",
              "      <td>0.000086</td>\n",
              "      <td>0.000003</td>\n",
              "      <td>15.69749</td>\n",
              "      <td>0.000003</td>\n",
              "      <td>0.000007</td>\n",
              "      <td>0.000004</td>\n",
              "      <td>0.000007</td>\n",
              "    </tr>\n",
              "    <tr>\n",
              "      <th>4</th>\n",
              "      <td>1.0</td>\n",
              "      <td>5.0</td>\n",
              "      <td>0.052298</td>\n",
              "      <td>0.015005</td>\n",
              "      <td>0.000049</td>\n",
              "      <td>0.000086</td>\n",
              "      <td>0.000003</td>\n",
              "      <td>15.69749</td>\n",
              "      <td>0.000003</td>\n",
              "      <td>0.000006</td>\n",
              "      <td>0.000004</td>\n",
              "      <td>0.000006</td>\n",
              "    </tr>\n",
              "  </tbody>\n",
              "</table>\n",
              "</div>"
            ],
            "text/plain": [
              "   epoch  iteration  ...  Event_GET_BATCH_STARTED  Event_GET_BATCH_COMPLETED\n",
              "0    1.0        1.0  ...                 0.000004                   0.000008\n",
              "1    1.0        2.0  ...                 0.000007                   0.000008\n",
              "2    1.0        3.0  ...                 0.000005                   0.000008\n",
              "3    1.0        4.0  ...                 0.000004                   0.000007\n",
              "4    1.0        5.0  ...                 0.000004                   0.000006\n",
              "\n",
              "[5 rows x 12 columns]"
            ]
          },
          "metadata": {
            "tags": []
          },
          "execution_count": 13
        }
      ],
      "metadata": {
        "id": "f4ZiVInXa1TO",
        "colab": {
          "base_uri": "https://localhost:8080/",
          "height": 226
        },
        "outputId": "1377a07d-d963-4d3b-dcd1-0b68179a56a2"
      }
    },
    {
      "cell_type": "markdown",
      "source": [
        "The `handlers_profile` CSV stores the details for whenever a handler was evoked which corresponds to the number of rows. "
      ],
      "metadata": {
        "id": "Tj06RU9AON93"
      }
    },
    {
      "cell_type": "code",
      "execution_count": 14,
      "source": [
        "handlers_profile = pd.read_csv(\"./handlers_profile.csv\")\n",
        "handlers_profile.head()"
      ],
      "outputs": [
        {
          "output_type": "execute_result",
          "data": {
            "text/html": [
              "<div>\n",
              "<style scoped>\n",
              "    .dataframe tbody tr th:only-of-type {\n",
              "        vertical-align: middle;\n",
              "    }\n",
              "\n",
              "    .dataframe tbody tr th {\n",
              "        vertical-align: top;\n",
              "    }\n",
              "\n",
              "    .dataframe thead th {\n",
              "        text-align: right;\n",
              "    }\n",
              "</style>\n",
              "<table border=\"1\" class=\"dataframe\">\n",
              "  <thead>\n",
              "    <tr style=\"text-align: right;\">\n",
              "      <th></th>\n",
              "      <th>#</th>\n",
              "      <th>processing_stats</th>\n",
              "      <th>dataflow_stats</th>\n",
              "      <th>log_training_results (EPOCH_COMPLETED)</th>\n",
              "      <th>log_validation_results (EPOCH_COMPLETED)</th>\n",
              "      <th>log_epoch_time (EPOCH_COMPLETED)</th>\n",
              "      <th>BasicTimeProfiler._as_first_started (STARTED)</th>\n",
              "      <th>log_total_time (COMPLETED)</th>\n",
              "    </tr>\n",
              "  </thead>\n",
              "  <tbody>\n",
              "    <tr>\n",
              "      <th>0</th>\n",
              "      <td>1.0</td>\n",
              "      <td>0.052516</td>\n",
              "      <td>0.024859</td>\n",
              "      <td>13.505706</td>\n",
              "      <td>2.191707</td>\n",
              "      <td>0.000034</td>\n",
              "      <td>0.000602</td>\n",
              "      <td>0.00003</td>\n",
              "    </tr>\n",
              "    <tr>\n",
              "      <th>1</th>\n",
              "      <td>2.0</td>\n",
              "      <td>0.053241</td>\n",
              "      <td>0.015263</td>\n",
              "      <td>12.367039</td>\n",
              "      <td>1.940679</td>\n",
              "      <td>0.000030</td>\n",
              "      <td>0.000000</td>\n",
              "      <td>0.00000</td>\n",
              "    </tr>\n",
              "    <tr>\n",
              "      <th>2</th>\n",
              "      <td>3.0</td>\n",
              "      <td>0.051531</td>\n",
              "      <td>0.018386</td>\n",
              "      <td>0.000000</td>\n",
              "      <td>0.000000</td>\n",
              "      <td>0.000000</td>\n",
              "      <td>0.000000</td>\n",
              "      <td>0.00000</td>\n",
              "    </tr>\n",
              "    <tr>\n",
              "      <th>3</th>\n",
              "      <td>4.0</td>\n",
              "      <td>0.052456</td>\n",
              "      <td>0.015774</td>\n",
              "      <td>0.000000</td>\n",
              "      <td>0.000000</td>\n",
              "      <td>0.000000</td>\n",
              "      <td>0.000000</td>\n",
              "      <td>0.00000</td>\n",
              "    </tr>\n",
              "    <tr>\n",
              "      <th>4</th>\n",
              "      <td>5.0</td>\n",
              "      <td>0.052331</td>\n",
              "      <td>0.015630</td>\n",
              "      <td>0.000000</td>\n",
              "      <td>0.000000</td>\n",
              "      <td>0.000000</td>\n",
              "      <td>0.000000</td>\n",
              "      <td>0.00000</td>\n",
              "    </tr>\n",
              "  </tbody>\n",
              "</table>\n",
              "</div>"
            ],
            "text/plain": [
              "     #  ...  log_total_time (COMPLETED)\n",
              "0  1.0  ...                     0.00003\n",
              "1  2.0  ...                     0.00000\n",
              "2  3.0  ...                     0.00000\n",
              "3  4.0  ...                     0.00000\n",
              "4  5.0  ...                     0.00000\n",
              "\n",
              "[5 rows x 8 columns]"
            ]
          },
          "metadata": {
            "tags": []
          },
          "execution_count": 14
        }
      ],
      "metadata": {
        "colab": {
          "base_uri": "https://localhost:8080/",
          "height": 224
        },
        "id": "GHCbe28yG0bB",
        "outputId": "545566cb-ddac-484f-f7d3-9d7560e1e5c8"
      }
    },
    {
      "cell_type": "markdown",
      "source": [
        "## Custom profiling using Timer\n",
        "\n",
        "At the lowest level of abstraction, we provide [`Timer()`](https://pytorch.org/ignite/generated/ignite.handlers.timing.Timer.html#timer) to calculate the time between any set of events. See its docstring for details."
      ],
      "metadata": {
        "id": "HWsePEmAWNmP"
      }
    }
  ]
}

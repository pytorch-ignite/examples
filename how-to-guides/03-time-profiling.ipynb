{
 "cells": [
  {
   "cell_type": "markdown",
   "metadata": {
    "id": "_1FzCFk3a1S3"
   },
   "source": [
    "<!-- ---\n",
    "title: How to do time profiling\n",
    "weight: 3\n",
    "downloads: true\n",
    "sidebar: true\n",
    "summary: Learn how to get the time breakdown for individual epochs during training, individual events, all handlers corresponding to an event, individual handlers, data loading and data processing using Engine's State, BasicTimeProfiler and HandlersTimeProfiler.\n",
    "tags:\n",
    "  - time-profiling\n",
    "  - engine.state.times\n",
    "  - BasicTimeProfiler\n",
    "  - HandlersTimeProfiler\n",
    "--- -->\n",
    "# How to do time profiling"
   ]
  },
  {
   "attachments": {},
   "cell_type": "markdown",
   "metadata": {
    "id": "2J7z60CkssXg"
   },
   "source": [
    "This example demonstrates how you can get the time breakdown for:\n",
    "- Individual epochs during training\n",
    "- Total training time\n",
    "- Individual [`Events`](https://pytorch-ignite.ai/concepts/02-events-and-handlers#events)\n",
    "- All [`Handlers`](https://pytorch-ignite.ai/concepts/02-events-and-handlers#handlers) corresponding to an `Event`\n",
    "- Individual `Handlers`\n",
    "- Data loading and Data processing.\n",
    "\n",
    "In this example, we will be using a ResNet18 model on the MNIST dataset. The base code is the same as used in the [Getting Started Guide](https://pytorch-ignite.ai/tutorials/getting-started/)."
   ]
  },
  {
   "cell_type": "markdown",
   "metadata": {
    "id": "THcUNAgpWMDF"
   },
   "source": [
    "## Basic Setup"
   ]
  },
  {
   "cell_type": "code",
   "execution_count": 1,
   "metadata": {
    "id": "Y0sJP9iFa1TB",
    "pycharm": {
     "is_executing": false
    }
   },
   "outputs": [],
   "source": [
    "import pandas as pd\n",
    "\n",
    "import torch\n",
    "from torch import nn\n",
    "from torch.utils.data import DataLoader\n",
    "from torchvision.datasets import MNIST\n",
    "from torchvision.models import resnet18\n",
    "from torchvision.transforms import Compose, Normalize, ToTensor\n",
    "\n",
    "from ignite.engine import Events, create_supervised_trainer, create_supervised_evaluator\n",
    "from ignite.metrics import Accuracy, Loss\n",
    "from ignite.handlers import Timer, BasicTimeProfiler, HandlersTimeProfiler"
   ]
  },
  {
   "cell_type": "code",
   "execution_count": 2,
   "metadata": {},
   "outputs": [
    {
     "data": {
      "text/plain": [
       "True"
      ]
     },
     "execution_count": 2,
     "metadata": {},
     "output_type": "execute_result"
    }
   ],
   "source": [
    "torch.cuda.is_available()"
   ]
  },
  {
   "cell_type": "code",
   "execution_count": 3,
   "metadata": {
    "id": "iK_9cOP6a1TI"
   },
   "outputs": [],
   "source": [
    "device = torch.device(\"cuda\" if torch.cuda.is_available() else \"cpu\")\n",
    "\n",
    "\n",
    "class Net(nn.Module):\n",
    "    def __init__(self):\n",
    "        super(Net, self).__init__()\n",
    "\n",
    "        self.model = resnet18(num_classes=10)\n",
    "        self.model.conv1 = nn.Conv2d(1, 64, kernel_size=3, padding=1, bias=False)\n",
    "\n",
    "    def forward(self, x):\n",
    "        return self.model(x)\n",
    "\n",
    "\n",
    "model = Net().to(device)\n",
    "\n",
    "data_transform = Compose([ToTensor(), Normalize((0.1307,), (0.3081,))])\n",
    "\n",
    "train_loader = DataLoader(\n",
    "    MNIST(download=True, root=\".\", transform=data_transform, train=True),\n",
    "    batch_size=128,\n",
    "    shuffle=True,\n",
    ")\n",
    "\n",
    "val_loader = DataLoader(\n",
    "    MNIST(download=True, root=\".\", transform=data_transform, train=False),\n",
    "    batch_size=256,\n",
    "    shuffle=False,\n",
    ")\n",
    "\n",
    "optimizer = torch.optim.RMSprop(model.parameters(), lr=0.005)\n",
    "criterion = nn.CrossEntropyLoss()"
   ]
  },
  {
   "cell_type": "markdown",
   "metadata": {
    "id": "WUHh-vc73eut"
   },
   "source": [
    "We attach two handlers to the `trainer` to print out the metrics ([`Accuracy`](https://pytorch.org/ignite/generated/ignite.metrics.Accuracy.html#accuracy) and [`Loss`](https://pytorch.org/ignite/generated/ignite.metrics.Loss.html#loss)) of the train and validation dataset at the end of every epoch."
   ]
  },
  {
   "cell_type": "code",
   "execution_count": 4,
   "metadata": {
    "id": "ItoswUK-23St"
   },
   "outputs": [],
   "source": [
    "trainer = create_supervised_trainer(model, optimizer, criterion, device=device)\n",
    "evaluator = create_supervised_evaluator(\n",
    "    model, metrics={\"accuracy\": Accuracy(), \"loss\": Loss(criterion)}, device=device\n",
    ")\n",
    "\n",
    "\n",
    "@trainer.on(Events.EPOCH_COMPLETED)\n",
    "def log_training_results(trainer):\n",
    "    evaluator.run(train_loader)\n",
    "    metrics = evaluator.state.metrics\n",
    "    print(\n",
    "        f\"Training Results - Epoch[{trainer.state.epoch}] Avg accuracy: {metrics['accuracy']:.2f} Avg loss: {metrics['loss']:.2f}\"\n",
    "    )\n",
    "\n",
    "\n",
    "@trainer.on(Events.EPOCH_COMPLETED)\n",
    "def log_validation_results(trainer):\n",
    "    evaluator.run(val_loader)\n",
    "    metrics = evaluator.state.metrics\n",
    "    print(\n",
    "        f\"Validation Results - Epoch[{trainer.state.epoch}] Avg accuracy: {metrics['accuracy']:.2f} Avg loss: {metrics['loss']:.2f}\"\n",
    "    )"
   ]
  },
  {
   "cell_type": "markdown",
   "metadata": {
    "id": "kTD4UFuZWUSe"
   },
   "source": [
    "## Using `State` of Events\n",
    "\n",
    "If we just want to print the time taken for every epoch and the total time for training we can simply use the `trainer`'s [`State`](https://pytorch.org/ignite/generated/ignite.engine.events.State.html#ignite.engine.events.State). We attach two separate handlers fired when an epoch is completed and when the training is completed to log the time returned by `trainer.state.times`."
   ]
  },
  {
   "cell_type": "code",
   "execution_count": 5,
   "metadata": {
    "id": "2m1pOALZ3vCO"
   },
   "outputs": [],
   "source": [
    "@trainer.on(Events.EPOCH_COMPLETED)\n",
    "def log_epoch_time():\n",
    "    print(\n",
    "        f\"Epoch {trainer.state.epoch}, Time Taken : {trainer.state.times['EPOCH_COMPLETED']}\"\n",
    "    )\n",
    "\n",
    "\n",
    "@trainer.on(Events.COMPLETED)\n",
    "def log_total_time():\n",
    "    print(f\"Total Time: {trainer.state.times['COMPLETED']}\")"
   ]
  },
  {
   "cell_type": "code",
   "execution_count": 6,
   "metadata": {
    "colab": {
     "base_uri": "https://localhost:8080/"
    },
    "id": "hmdHZIDIABc9",
    "outputId": "6b4cbdb9-870f-44b4-d8ff-70be57a5c847"
   },
   "outputs": [
    {
     "name": "stdout",
     "output_type": "stream",
     "text": [
      "Training Results - Epoch[1] Avg accuracy: 0.97 Avg loss: 0.11\n",
      "Validation Results - Epoch[1] Avg accuracy: 0.97 Avg loss: 0.10\n",
      "Epoch 1, Time Taken : 31.281248569488525\n",
      "Training Results - Epoch[2] Avg accuracy: 0.99 Avg loss: 0.05\n",
      "Validation Results - Epoch[2] Avg accuracy: 0.98 Avg loss: 0.05\n",
      "Epoch 2, Time Taken : 30.54600954055786\n",
      "Total Time: 107.31757092475891\n"
     ]
    },
    {
     "data": {
      "text/plain": [
       "State:\n",
       "\titeration: 938\n",
       "\tepoch: 2\n",
       "\tepoch_length: 469\n",
       "\tmax_epochs: 2\n",
       "\toutput: 0.013461492024362087\n",
       "\tbatch: <class 'list'>\n",
       "\tmetrics: <class 'dict'>\n",
       "\tdataloader: <class 'torch.utils.data.dataloader.DataLoader'>\n",
       "\tseed: <class 'NoneType'>\n",
       "\ttimes: <class 'dict'>"
      ]
     },
     "execution_count": 6,
     "metadata": {},
     "output_type": "execute_result"
    }
   ],
   "source": [
    "trainer.run(train_loader, max_epochs=2)"
   ]
  },
  {
   "cell_type": "markdown",
   "metadata": {
    "id": "IlT7TUokNIQ7"
   },
   "source": [
    "## Event-based profiling using `BasicTimeProfiler`\n",
    "\n",
    "If we want more information such as the time taken by data processing, data loading and all pre-defined events, we can use [`BasicTimeProfiler()`](https://pytorch.org/ignite/generated/ignite.handlers.time_profilers.BasicTimeProfiler.html#basictimeprofiler)."
   ]
  },
  {
   "cell_type": "code",
   "execution_count": 7,
   "metadata": {
    "colab": {
     "base_uri": "https://localhost:8080/"
    },
    "id": "dU37erdra1TK",
    "outputId": "296cf759-0c9d-45f2-c2cf-6911b464b21f"
   },
   "outputs": [
    {
     "name": "stdout",
     "output_type": "stream",
     "text": [
      "Training Results - Epoch[1] Avg accuracy: 0.99 Avg loss: 0.04\n",
      "Validation Results - Epoch[1] Avg accuracy: 0.99 Avg loss: 0.04\n",
      "Epoch 1, Time Taken : 30.6413791179657\n",
      "Training Results - Epoch[2] Avg accuracy: 0.97 Avg loss: 0.10\n",
      "Validation Results - Epoch[2] Avg accuracy: 0.97 Avg loss: 0.11\n",
      "Epoch 2, Time Taken : 30.38310170173645\n",
      "Total Time: 106.3881447315216\n"
     ]
    },
    {
     "data": {
      "text/plain": [
       "State:\n",
       "\titeration: 938\n",
       "\tepoch: 2\n",
       "\tepoch_length: 469\n",
       "\tmax_epochs: 2\n",
       "\toutput: 0.0808301642537117\n",
       "\tbatch: <class 'list'>\n",
       "\tmetrics: <class 'dict'>\n",
       "\tdataloader: <class 'torch.utils.data.dataloader.DataLoader'>\n",
       "\tseed: <class 'NoneType'>\n",
       "\ttimes: <class 'dict'>"
      ]
     },
     "execution_count": 7,
     "metadata": {},
     "output_type": "execute_result"
    }
   ],
   "source": [
    "# Attach basic profiler\n",
    "basic_profiler = BasicTimeProfiler()\n",
    "basic_profiler.attach(trainer)\n",
    "\n",
    "trainer.run(train_loader, max_epochs=2)"
   ]
  },
  {
   "cell_type": "markdown",
   "metadata": {
    "id": "1zGDVT4ACJSN"
   },
   "source": [
    "We can then obtain the results dictionary via [`get_results()`](https://pytorch.org/ignite/generated/ignite.handlers.time_profilers.BasicTimeProfiler.html#ignite.handlers.time_profilers.BasicTimeProfiler.get_results) and pass it to [`print_results()`](https://pytorch.org/ignite/generated/ignite.handlers.time_profilers.BasicTimeProfiler.html#ignite.handlers.time_profilers.BasicTimeProfiler.print_results) to get a nicely formatted output which contains total, minimum, maximum, mean and the standard deviation of the time taken."
   ]
  },
  {
   "cell_type": "code",
   "execution_count": 8,
   "metadata": {
    "colab": {
     "base_uri": "https://localhost:8080/"
    },
    "id": "dPxd8R82BfKZ",
    "outputId": "2540f3ff-3986-42d7-c940-7fcd46ef6d13"
   },
   "outputs": [
    {
     "name": "stdout",
     "output_type": "stream",
     "text": [
      "\n",
      " ----------------------------------------------------\n",
      "| Time profiling stats (in seconds):                 |\n",
      " ----------------------------------------------------\n",
      "total  |  min/index  |  max/index  |  mean  |  std\n",
      "\n",
      "Processing function:\n",
      "28.62366 | 0.02439/937 | 0.05147/0 | 0.03052 | 0.00191\n",
      "\n",
      "Dataflow:\n",
      "32.23854 | 0.02618/936 | 0.15481/937 | 0.03437 | 0.00455\n",
      "\n",
      "Event handlers:\n",
      "45.38009\n",
      "\n",
      "- Events.STARTED: []\n",
      "0.00001\n",
      "\n",
      "- Events.EPOCH_STARTED: []\n",
      "0.00001 | 0.00000/0 | 0.00000/1 | 0.00000 | 0.00000\n",
      "\n",
      "- Events.ITERATION_STARTED: []\n",
      "0.00246 | 0.00000/351 | 0.00003/609 | 0.00000 | 0.00000\n",
      "\n",
      "- Events.ITERATION_COMPLETED: []\n",
      "0.00556 | 0.00000/12 | 0.00002/653 | 0.00001 | 0.00000\n",
      "\n",
      "- Events.EPOCH_COMPLETED: ['log_training_results', 'log_validation_results', 'log_epoch_time']\n",
      "45.36316 | 22.66037/1 | 22.70279/0 | 22.68158 | 0.02999\n",
      "\n",
      "- Events.COMPLETED: ['log_total_time']\n",
      "0.00004\n",
      "\n"
     ]
    }
   ],
   "source": [
    "results = basic_profiler.get_results()\n",
    "basic_profiler.print_results(results);"
   ]
  },
  {
   "cell_type": "markdown",
   "metadata": {
    "id": "YFzTSk-EChQd"
   },
   "source": [
    "**Note**: This approach does not get the time taken by an individual handler rather the sum of the time taken by all handlers corresponding to a pre-defined event."
   ]
  },
  {
   "attachments": {},
   "cell_type": "markdown",
   "metadata": {
    "id": "orRhb-Z1N8vq"
   },
   "source": [
    "## Handler-based profiling using `HandlersTimeProfiler`\n",
    "\n",
    "We can overcome the above problem by using [`HandlersTimeProfiler`](https://pytorch.org/ignite/generated/ignite.handlers.time_profilers.HandlersTimeProfiler.html#handlerstimeprofiler) which gives us only the necessary information. We can also calculate the time taken by handlers attached to [`Custom Events`](https://pytorch-ignite.ai/concepts/02-events-and-handlers#custom-events), which was not previously possible, via this."
   ]
  },
  {
   "cell_type": "code",
   "execution_count": 9,
   "metadata": {
    "id": "zdWobxOs_nuO"
   },
   "outputs": [],
   "source": [
    "# Attach handlers profiler\n",
    "handlers_profiler = HandlersTimeProfiler()\n",
    "handlers_profiler.attach(trainer)"
   ]
  },
  {
   "cell_type": "code",
   "execution_count": 10,
   "metadata": {
    "colab": {
     "base_uri": "https://localhost:8080/"
    },
    "id": "ZJd487jMBqw2",
    "outputId": "3b6c2813-1847-4d0a-f7c1-87ef8e9df544"
   },
   "outputs": [
    {
     "name": "stdout",
     "output_type": "stream",
     "text": [
      "Training Results - Epoch[1] Avg accuracy: 0.99 Avg loss: 0.02\n",
      "Validation Results - Epoch[1] Avg accuracy: 0.99 Avg loss: 0.03\n",
      "Epoch 1, Time Taken : 30.685564279556274\n",
      "Training Results - Epoch[2] Avg accuracy: 1.00 Avg loss: 0.01\n",
      "Validation Results - Epoch[2] Avg accuracy: 0.99 Avg loss: 0.03\n",
      "Epoch 2, Time Taken : 30.860342502593994\n",
      "Total Time: 107.25911617279053\n"
     ]
    },
    {
     "data": {
      "text/plain": [
       "State:\n",
       "\titeration: 938\n",
       "\tepoch: 2\n",
       "\tepoch_length: 469\n",
       "\tmax_epochs: 2\n",
       "\toutput: 0.005279005039483309\n",
       "\tbatch: <class 'list'>\n",
       "\tmetrics: <class 'dict'>\n",
       "\tdataloader: <class 'torch.utils.data.dataloader.DataLoader'>\n",
       "\tseed: <class 'NoneType'>\n",
       "\ttimes: <class 'dict'>"
      ]
     },
     "execution_count": 10,
     "metadata": {},
     "output_type": "execute_result"
    }
   ],
   "source": [
    "trainer.run(train_loader, max_epochs=2)"
   ]
  },
  {
   "cell_type": "markdown",
   "metadata": {
    "id": "T_AIlhvqa1TK"
   },
   "source": [
    "We can print the results of the profiler in the same way as above. The output shows total, average and other details of execution time for each handler attached. It also shows the data processing and data loading times."
   ]
  },
  {
   "cell_type": "code",
   "execution_count": 11,
   "metadata": {
    "colab": {
     "base_uri": "https://localhost:8080/"
    },
    "id": "S8J8iWyUa1TL",
    "outputId": "d8ccdbe9-f207-4ac7-a090-273716dee5a4"
   },
   "outputs": [
    {
     "name": "stdout",
     "output_type": "stream",
     "text": [
      "\n",
      "---------------------------------------  -------------------  --------------  --------------  --------------  --------------  --------------  \n",
      "Handler                                  Event Name                 Total(s)      Min(s)/IDX      Max(s)/IDX         Mean(s)          Std(s)  \n",
      "---------------------------------------  -------------------  --------------  --------------  --------------  --------------  --------------  \n",
      "log_training_results                     EPOCH_COMPLETED            39.35234      19.31905/0      20.03329/1        19.67617         0.50504  \n",
      "log_validation_results                   EPOCH_COMPLETED             6.35954       3.16563/0       3.19391/1         3.17977            0.02  \n",
      "log_epoch_time                           EPOCH_COMPLETED               7e-05         3e-05/1         3e-05/0           3e-05             0.0  \n",
      "BasicTimeProfiler._as_first_started      STARTED                     0.00034       0.00034/0       0.00034/0         0.00034            None  \n",
      "log_total_time                           COMPLETED                     4e-05         4e-05/0         4e-05/0           4e-05            None  \n",
      "---------------------------------------  -------------------  --------------  --------------  --------------  --------------  --------------  \n",
      "Total                                                               45.71233                                                                  \n",
      "---------------------------------------  -------------------  --------------  --------------  --------------  --------------  --------------  \n",
      "Processing took total 29.2974s [min/index: 0.0238s/468, max/index: 0.06095s/726, mean: 0.03123s, std: 0.00228s]\n",
      "Dataflow took total 32.09461s [min/index: 0.02433s/468, max/index: 0.06684s/1, mean: 0.03422s, std: 0.00291s]\n",
      "\n"
     ]
    }
   ],
   "source": [
    "results = handlers_profiler.get_results()\n",
    "handlers_profiler.print_results(results)"
   ]
  },
  {
   "cell_type": "markdown",
   "metadata": {
    "id": "F0yJpyC7a1TM"
   },
   "source": [
    "The profiling results obtained by `basic_profiler` and `handler_profiler` can be exported to a CSV file by using the `write_results()` method."
   ]
  },
  {
   "cell_type": "code",
   "execution_count": 12,
   "metadata": {
    "id": "_6a0t-Xha1TM"
   },
   "outputs": [],
   "source": [
    "basic_profiler.write_results(\"./basic_profile.csv\")\n",
    "handlers_profiler.write_results(\"./handlers_profile.csv\")"
   ]
  },
  {
   "cell_type": "markdown",
   "metadata": {
    "id": "-hG8hYQba1TM"
   },
   "source": [
    "If we inspect the CSV file of `basic_profiler` we can see the depth of information stored for every iteration."
   ]
  },
  {
   "cell_type": "code",
   "execution_count": 13,
   "metadata": {
    "colab": {
     "base_uri": "https://localhost:8080/",
     "height": 226
    },
    "id": "f4ZiVInXa1TO",
    "outputId": "1377a07d-d963-4d3b-dcd1-0b68179a56a2"
   },
   "outputs": [
    {
     "data": {
      "text/html": [
       "<div>\n",
       "<style scoped>\n",
       "    .dataframe tbody tr th:only-of-type {\n",
       "        vertical-align: middle;\n",
       "    }\n",
       "\n",
       "    .dataframe tbody tr th {\n",
       "        vertical-align: top;\n",
       "    }\n",
       "\n",
       "    .dataframe thead th {\n",
       "        text-align: right;\n",
       "    }\n",
       "</style>\n",
       "<table border=\"1\" class=\"dataframe\">\n",
       "  <thead>\n",
       "    <tr style=\"text-align: right;\">\n",
       "      <th></th>\n",
       "      <th>epoch</th>\n",
       "      <th>iteration</th>\n",
       "      <th>processing_stats</th>\n",
       "      <th>dataflow_stats</th>\n",
       "      <th>Event_STARTED</th>\n",
       "      <th>Event_COMPLETED</th>\n",
       "      <th>Event_EPOCH_STARTED</th>\n",
       "      <th>Event_EPOCH_COMPLETED</th>\n",
       "      <th>Event_ITERATION_STARTED</th>\n",
       "      <th>Event_ITERATION_COMPLETED</th>\n",
       "      <th>Event_GET_BATCH_STARTED</th>\n",
       "      <th>Event_GET_BATCH_COMPLETED</th>\n",
       "    </tr>\n",
       "  </thead>\n",
       "  <tbody>\n",
       "    <tr>\n",
       "      <th>0</th>\n",
       "      <td>1.0</td>\n",
       "      <td>1.0</td>\n",
       "      <td>0.037031</td>\n",
       "      <td>0.066874</td>\n",
       "      <td>0.000017</td>\n",
       "      <td>0.000084</td>\n",
       "      <td>0.000003</td>\n",
       "      <td>22.484756</td>\n",
       "      <td>0.000005</td>\n",
       "      <td>0.000010</td>\n",
       "      <td>0.000006</td>\n",
       "      <td>0.000013</td>\n",
       "    </tr>\n",
       "    <tr>\n",
       "      <th>1</th>\n",
       "      <td>1.0</td>\n",
       "      <td>2.0</td>\n",
       "      <td>0.034586</td>\n",
       "      <td>0.039192</td>\n",
       "      <td>0.000017</td>\n",
       "      <td>0.000084</td>\n",
       "      <td>0.000003</td>\n",
       "      <td>22.484756</td>\n",
       "      <td>0.000005</td>\n",
       "      <td>0.000011</td>\n",
       "      <td>0.000006</td>\n",
       "      <td>0.000009</td>\n",
       "    </tr>\n",
       "    <tr>\n",
       "      <th>2</th>\n",
       "      <td>1.0</td>\n",
       "      <td>3.0</td>\n",
       "      <td>0.033999</td>\n",
       "      <td>0.034169</td>\n",
       "      <td>0.000017</td>\n",
       "      <td>0.000084</td>\n",
       "      <td>0.000003</td>\n",
       "      <td>22.484756</td>\n",
       "      <td>0.000005</td>\n",
       "      <td>0.000009</td>\n",
       "      <td>0.000012</td>\n",
       "      <td>0.000008</td>\n",
       "    </tr>\n",
       "    <tr>\n",
       "      <th>3</th>\n",
       "      <td>1.0</td>\n",
       "      <td>4.0</td>\n",
       "      <td>0.033792</td>\n",
       "      <td>0.034108</td>\n",
       "      <td>0.000017</td>\n",
       "      <td>0.000084</td>\n",
       "      <td>0.000003</td>\n",
       "      <td>22.484756</td>\n",
       "      <td>0.000004</td>\n",
       "      <td>0.000009</td>\n",
       "      <td>0.000005</td>\n",
       "      <td>0.000009</td>\n",
       "    </tr>\n",
       "    <tr>\n",
       "      <th>4</th>\n",
       "      <td>1.0</td>\n",
       "      <td>5.0</td>\n",
       "      <td>0.033714</td>\n",
       "      <td>0.034156</td>\n",
       "      <td>0.000017</td>\n",
       "      <td>0.000084</td>\n",
       "      <td>0.000003</td>\n",
       "      <td>22.484756</td>\n",
       "      <td>0.000004</td>\n",
       "      <td>0.000011</td>\n",
       "      <td>0.000006</td>\n",
       "      <td>0.000008</td>\n",
       "    </tr>\n",
       "  </tbody>\n",
       "</table>\n",
       "</div>"
      ],
      "text/plain": [
       "   epoch  iteration  processing_stats  dataflow_stats  Event_STARTED  \\\n",
       "0    1.0        1.0          0.037031        0.066874       0.000017   \n",
       "1    1.0        2.0          0.034586        0.039192       0.000017   \n",
       "2    1.0        3.0          0.033999        0.034169       0.000017   \n",
       "3    1.0        4.0          0.033792        0.034108       0.000017   \n",
       "4    1.0        5.0          0.033714        0.034156       0.000017   \n",
       "\n",
       "   Event_COMPLETED  Event_EPOCH_STARTED  Event_EPOCH_COMPLETED  \\\n",
       "0         0.000084             0.000003              22.484756   \n",
       "1         0.000084             0.000003              22.484756   \n",
       "2         0.000084             0.000003              22.484756   \n",
       "3         0.000084             0.000003              22.484756   \n",
       "4         0.000084             0.000003              22.484756   \n",
       "\n",
       "   Event_ITERATION_STARTED  Event_ITERATION_COMPLETED  \\\n",
       "0                 0.000005                   0.000010   \n",
       "1                 0.000005                   0.000011   \n",
       "2                 0.000005                   0.000009   \n",
       "3                 0.000004                   0.000009   \n",
       "4                 0.000004                   0.000011   \n",
       "\n",
       "   Event_GET_BATCH_STARTED  Event_GET_BATCH_COMPLETED  \n",
       "0                 0.000006                   0.000013  \n",
       "1                 0.000006                   0.000009  \n",
       "2                 0.000012                   0.000008  \n",
       "3                 0.000005                   0.000009  \n",
       "4                 0.000006                   0.000008  "
      ]
     },
     "execution_count": 13,
     "metadata": {},
     "output_type": "execute_result"
    }
   ],
   "source": [
    "basic_profile = pd.read_csv(\"./basic_profile.csv\")\n",
    "basic_profile.head()"
   ]
  },
  {
   "cell_type": "markdown",
   "metadata": {
    "id": "Tj06RU9AON93"
   },
   "source": [
    "The `handlers_profile` CSV stores the details for whenever a handler was evoked which corresponds to the number of rows. "
   ]
  },
  {
   "cell_type": "code",
   "execution_count": 14,
   "metadata": {
    "colab": {
     "base_uri": "https://localhost:8080/",
     "height": 224
    },
    "id": "GHCbe28yG0bB",
    "outputId": "545566cb-ddac-484f-f7d3-9d7560e1e5c8"
   },
   "outputs": [
    {
     "data": {
      "text/html": [
       "<div>\n",
       "<style scoped>\n",
       "    .dataframe tbody tr th:only-of-type {\n",
       "        vertical-align: middle;\n",
       "    }\n",
       "\n",
       "    .dataframe tbody tr th {\n",
       "        vertical-align: top;\n",
       "    }\n",
       "\n",
       "    .dataframe thead th {\n",
       "        text-align: right;\n",
       "    }\n",
       "</style>\n",
       "<table border=\"1\" class=\"dataframe\">\n",
       "  <thead>\n",
       "    <tr style=\"text-align: right;\">\n",
       "      <th></th>\n",
       "      <th>#</th>\n",
       "      <th>processing_stats</th>\n",
       "      <th>dataflow_stats</th>\n",
       "      <th>log_training_results (EPOCH_COMPLETED)</th>\n",
       "      <th>log_validation_results (EPOCH_COMPLETED)</th>\n",
       "      <th>log_epoch_time (EPOCH_COMPLETED)</th>\n",
       "      <th>BasicTimeProfiler._as_first_started (STARTED)</th>\n",
       "      <th>log_total_time (COMPLETED)</th>\n",
       "    </tr>\n",
       "  </thead>\n",
       "  <tbody>\n",
       "    <tr>\n",
       "      <th>0</th>\n",
       "      <td>1.0</td>\n",
       "      <td>0.037088</td>\n",
       "      <td>0.054261</td>\n",
       "      <td>19.319054</td>\n",
       "      <td>3.165631</td>\n",
       "      <td>0.000034</td>\n",
       "      <td>0.000342</td>\n",
       "      <td>0.000036</td>\n",
       "    </tr>\n",
       "    <tr>\n",
       "      <th>1</th>\n",
       "      <td>2.0</td>\n",
       "      <td>0.034641</td>\n",
       "      <td>0.066836</td>\n",
       "      <td>20.033289</td>\n",
       "      <td>3.193913</td>\n",
       "      <td>0.000032</td>\n",
       "      <td>0.000000</td>\n",
       "      <td>0.000000</td>\n",
       "    </tr>\n",
       "    <tr>\n",
       "      <th>2</th>\n",
       "      <td>3.0</td>\n",
       "      <td>0.034053</td>\n",
       "      <td>0.039158</td>\n",
       "      <td>0.000000</td>\n",
       "      <td>0.000000</td>\n",
       "      <td>0.000000</td>\n",
       "      <td>0.000000</td>\n",
       "      <td>0.000000</td>\n",
       "    </tr>\n",
       "    <tr>\n",
       "      <th>3</th>\n",
       "      <td>4.0</td>\n",
       "      <td>0.033844</td>\n",
       "      <td>0.034130</td>\n",
       "      <td>0.000000</td>\n",
       "      <td>0.000000</td>\n",
       "      <td>0.000000</td>\n",
       "      <td>0.000000</td>\n",
       "      <td>0.000000</td>\n",
       "    </tr>\n",
       "    <tr>\n",
       "      <th>4</th>\n",
       "      <td>5.0</td>\n",
       "      <td>0.033771</td>\n",
       "      <td>0.034076</td>\n",
       "      <td>0.000000</td>\n",
       "      <td>0.000000</td>\n",
       "      <td>0.000000</td>\n",
       "      <td>0.000000</td>\n",
       "      <td>0.000000</td>\n",
       "    </tr>\n",
       "  </tbody>\n",
       "</table>\n",
       "</div>"
      ],
      "text/plain": [
       "     #  processing_stats  dataflow_stats  \\\n",
       "0  1.0          0.037088        0.054261   \n",
       "1  2.0          0.034641        0.066836   \n",
       "2  3.0          0.034053        0.039158   \n",
       "3  4.0          0.033844        0.034130   \n",
       "4  5.0          0.033771        0.034076   \n",
       "\n",
       "   log_training_results (EPOCH_COMPLETED)  \\\n",
       "0                               19.319054   \n",
       "1                               20.033289   \n",
       "2                                0.000000   \n",
       "3                                0.000000   \n",
       "4                                0.000000   \n",
       "\n",
       "   log_validation_results (EPOCH_COMPLETED)  log_epoch_time (EPOCH_COMPLETED)  \\\n",
       "0                                  3.165631                          0.000034   \n",
       "1                                  3.193913                          0.000032   \n",
       "2                                  0.000000                          0.000000   \n",
       "3                                  0.000000                          0.000000   \n",
       "4                                  0.000000                          0.000000   \n",
       "\n",
       "   BasicTimeProfiler._as_first_started (STARTED)  log_total_time (COMPLETED)  \n",
       "0                                       0.000342                    0.000036  \n",
       "1                                       0.000000                    0.000000  \n",
       "2                                       0.000000                    0.000000  \n",
       "3                                       0.000000                    0.000000  \n",
       "4                                       0.000000                    0.000000  "
      ]
     },
     "execution_count": 14,
     "metadata": {},
     "output_type": "execute_result"
    }
   ],
   "source": [
    "handlers_profile = pd.read_csv(\"./handlers_profile.csv\")\n",
    "handlers_profile.head()"
   ]
  },
  {
   "cell_type": "markdown",
   "metadata": {
    "id": "HWsePEmAWNmP"
   },
   "source": [
    "## Custom profiling using Timer\n",
    "\n",
    "At the lowest level of abstraction, we provide [`Timer()`](https://pytorch.org/ignite/generated/ignite.handlers.timing.Timer.html#timer) to calculate the time between any set of events. See its docstring for details."
   ]
  },
  {
   "cell_type": "markdown",
   "metadata": {},
   "source": [
    "### Elapsed Training Time"
   ]
  },
  {
   "cell_type": "markdown",
   "metadata": {},
   "source": [
    "[`Timer()`](https://pytorch.org/ignite/generated/ignite.handlers.timing.Timer.html#timer) can be used, for example, to compute elapsed training time during training."
   ]
  },
  {
   "cell_type": "code",
   "execution_count": 15,
   "metadata": {},
   "outputs": [
    {
     "name": "stdout",
     "output_type": "stream",
     "text": [
      "Training Results - Epoch[1] Avg accuracy: 0.99 Avg loss: 0.02\n",
      "Validation Results - Epoch[1] Avg accuracy: 0.99 Avg loss: 0.04\n",
      "Epoch 1, Time Taken : 30.887796878814697\n",
      "   Elapsed time: 53.353810481959954\n",
      "Training Results - Epoch[2] Avg accuracy: 1.00 Avg loss: 0.01\n",
      "Validation Results - Epoch[2] Avg accuracy: 0.99 Avg loss: 0.03\n",
      "Epoch 2, Time Taken : 31.164958238601685\n",
      "   Elapsed time: 107.81696200894658\n",
      "Total Time: 107.8185646533966\n"
     ]
    },
    {
     "data": {
      "text/plain": [
       "State:\n",
       "\titeration: 938\n",
       "\tepoch: 2\n",
       "\tepoch_length: 469\n",
       "\tmax_epochs: 2\n",
       "\toutput: 0.00048420054372400045\n",
       "\tbatch: <class 'list'>\n",
       "\tmetrics: <class 'dict'>\n",
       "\tdataloader: <class 'torch.utils.data.dataloader.DataLoader'>\n",
       "\tseed: <class 'NoneType'>\n",
       "\ttimes: <class 'dict'>"
      ]
     },
     "execution_count": 15,
     "metadata": {},
     "output_type": "execute_result"
    }
   ],
   "source": [
    "elapsed_time = Timer()\n",
    "\n",
    "elapsed_time.attach(\n",
    "    trainer,\n",
    "    start=Events.STARTED,         # Start timer at the beginning of training\n",
    "    resume=Events.EPOCH_STARTED,  # Resume timer at the beginning of each epoch\n",
    "    pause=Events.EPOCH_COMPLETED, # Pause timer at the end of each epoch\n",
    "    step=Events.EPOCH_COMPLETED,  # Step (update) timer at the end of each epoch\n",
    ")\n",
    "\n",
    "@trainer.on(Events.EPOCH_COMPLETED)\n",
    "def log_elapsed_time(trainer):\n",
    "    print(f\"   Elapsed time: {elapsed_time.value()}\")\n",
    "\n",
    "trainer.run(train_loader, max_epochs=2)"
   ]
  }
 ],
 "metadata": {
  "accelerator": "GPU",
  "colab": {
   "collapsed_sections": [],
   "name": "time-profiling.ipynb",
   "provenance": []
  },
  "kernelspec": {
   "display_name": "Python 3 (ipykernel)",
   "language": "python",
   "name": "python3"
  },
  "language_info": {
   "codemirror_mode": {
    "name": "ipython",
    "version": 3
   },
   "file_extension": ".py",
   "mimetype": "text/x-python",
   "name": "python",
   "nbconvert_exporter": "python",
   "pygments_lexer": "ipython3",
   "version": "3.10.4"
  }
 },
 "nbformat": 4,
 "nbformat_minor": 4
}
